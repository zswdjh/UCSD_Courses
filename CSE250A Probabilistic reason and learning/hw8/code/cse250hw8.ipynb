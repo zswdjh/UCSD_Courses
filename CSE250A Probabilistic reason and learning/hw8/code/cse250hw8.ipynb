{
 "cells": [
  {
   "cell_type": "code",
   "execution_count": 91,
   "metadata": {
    "collapsed": true
   },
   "outputs": [],
   "source": [
    "import numpy\n",
    "from math import log"
   ]
  },
  {
   "cell_type": "code",
   "execution_count": 25,
   "metadata": {
    "collapsed": true
   },
   "outputs": [],
   "source": [
    "movie_title=[]\n",
    "with open('hw8_movieTitles.txt') as inputfile:\n",
    "    for line in inputfile:\n",
    "        movie_title.append(line.strip())"
   ]
  },
  {
   "cell_type": "code",
   "execution_count": 14,
   "metadata": {},
   "outputs": [],
   "source": [
    "studentPID=[]\n",
    "with open('hw8_studentPID.txt') as inputfile:\n",
    "    for line in inputfile:\n",
    "        studentPID.append(line.strip())"
   ]
  },
  {
   "cell_type": "code",
   "execution_count": 16,
   "metadata": {},
   "outputs": [],
   "source": [
    "rating = []\n",
    "with open('hw8_ratings.txt') as inputfile:\n",
    "    for line in inputfile:\n",
    "        rating.append(line.strip().split(' '))"
   ]
  },
  {
   "cell_type": "code",
   "execution_count": 57,
   "metadata": {},
   "outputs": [],
   "source": [
    "#8.1 (a)\n",
    "rating_movie_row = [[row[i] for row in rating] for i in range(50)]\n",
    "popularity = []\n",
    "for i in range(len(rating_movie_row)):\n",
    "    popularity.append(rating_movie_row[i].count('1')/(rating_movie_row[i].count('1')+rating_movie_row[i].count('0')))\n",
    "movie_popularity = {}\n",
    "for i in range(50):\n",
    "    movie = movie_title[i]\n",
    "    popular = popularity[i]\n",
    "    movie_popularity[movie] = popular\n",
    "import operator\n",
    "sorted_m_p =sorted(movie_popularity.items(),key=operator.itemgetter(1))\n",
    "print('the movie titles from least popular to most popular are: ')\n",
    "for data in sorted_m_p:\n",
    "    print(data[0])"
   ]
  },
  {
   "cell_type": "code",
   "execution_count": 126,
   "metadata": {},
   "outputs": [
    {
     "data": {
      "text/plain": [
       "[('Fifty_Shades_of_Grey', 0.33093525179856115),\n",
       " ('The_Last_Airbender', 0.35714285714285715),\n",
       " ('Magic_Mike', 0.5245901639344263),\n",
       " ('Prometheus', 0.5436893203883495),\n",
       " ('Bridemaids', 0.5555555555555556),\n",
       " ('World_War_Z', 0.59),\n",
       " ('Man_of_Steel', 0.5915492957746479),\n",
       " ('Mad_Max:_Fury_Road', 0.6333333333333333),\n",
       " ('Drive', 0.6363636363636364),\n",
       " ('Thor', 0.6646341463414634),\n",
       " ('Pitch_Perfect', 0.6666666666666666),\n",
       " ('The_Hunger_Games', 0.6712962962962963),\n",
       " ('Fast_Five', 0.6783216783216783),\n",
       " ('The_Hateful_Eight', 0.6825396825396826),\n",
       " ('Iron_Man_2', 0.6923076923076923),\n",
       " ('The_Perks_of_Being_a_Wallflower', 0.6951219512195121),\n",
       " ('American_Hustle', 0.7159090909090909),\n",
       " ('The_Help', 0.725),\n",
       " ('Avengers:_Age_of_Ultron', 0.7298850574712644),\n",
       " ('21_Jump_Street', 0.7358490566037735),\n",
       " ('Captain_America:_The_First_Avenger', 0.7360406091370558),\n",
       " ('Les_Miserables', 0.7452830188679245),\n",
       " ('Star_Wars:_The_Force_Awakens', 0.7485714285714286),\n",
       " ('Jurassic_World', 0.7540106951871658),\n",
       " ('The_Great_Gatsby', 0.7548387096774194),\n",
       " ('X-Men:_First_Class', 0.7637362637362637),\n",
       " ('The_Revenant', 0.7669902912621359),\n",
       " ('Her', 0.7790697674418605),\n",
       " ('Ex_Machina', 0.7857142857142857),\n",
       " ('Room', 0.7857142857142857),\n",
       " ('Django_Unchained', 0.7890625),\n",
       " ('The_Girls_with_the_Dragon_Tattoo', 0.7894736842105263),\n",
       " ('Frozen', 0.7900552486187845),\n",
       " ('Midnight_in_Paris', 0.797752808988764),\n",
       " ('The_Avengers', 0.8009049773755657),\n",
       " ('Wolf_of_Wall_Street', 0.8041237113402062),\n",
       " ('Harry_Potter_and_the_Deathly_Hallows:_Part_1', 0.8041666666666667),\n",
       " ('Black_Swan', 0.8099173553719008),\n",
       " ('Toy_Story_3', 0.8103448275862069),\n",
       " ('Harry_Potter_and_the_Deathly_Hallows:_Part_2', 0.8318965517241379),\n",
       " ('Gone_Girl', 0.8394160583941606),\n",
       " ('The_Theory_of_Everything', 0.8407079646017699),\n",
       " ('12_Years_a_Slave', 0.8409090909090909),\n",
       " ('Now_You_See_Me', 0.8606060606060606),\n",
       " ('The_Social_Network', 0.8941176470588236),\n",
       " ('The_Martian', 0.9014084507042254),\n",
       " ('Shutter_Island', 0.9078014184397163),\n",
       " ('Interstellar', 0.9144144144144144),\n",
       " ('The_Dark_Knight_Rises', 0.9255813953488372),\n",
       " ('Inception', 0.9959349593495935)]"
      ]
     },
     "execution_count": 126,
     "metadata": {},
     "output_type": "execute_result"
    }
   ],
   "source": [
    "sorted_m_p"
   ]
  },
  {
   "cell_type": "code",
   "execution_count": 103,
   "metadata": {},
   "outputs": [],
   "source": [
    "#8.1(e)\n",
    "probZ = []\n",
    "with open('hw8_probZ_init.txt') as inputfile:\n",
    "    for line in inputfile:\n",
    "        probZ.append(line.strip())\n",
    "for i in range(len(probZ)):\n",
    "    probZ[i] = float(probZ[i])\n",
    "probRgivenZ = []\n",
    "with open('hw8_probRgivenZ_init.txt') as inputfile:\n",
    "    for line in inputfile:\n",
    "        probRgivenZ.append(line.strip().split('   '))\n",
    "for i in range(len(probRgivenZ)):\n",
    "    for j in range(4):\n",
    "        probRgivenZ[i][j] = float(probRgivenZ[i][j])\n"
   ]
  },
  {
   "cell_type": "code",
   "execution_count": 104,
   "metadata": {},
   "outputs": [
    {
     "name": "stdout",
     "output_type": "stream",
     "text": [
      "iteration 0  likelihood =  -23.68194303920656\n",
      "iteration 1  likelihood =  -14.342138732059837\n",
      "iteration 2  likelihood =  -12.909592229693583\n",
      "iteration 3  likelihood =  -12.390960695569436\n",
      "iteration 4  likelihood =  -12.15061981794007\n",
      "iteration 5  likelihood =  -12.031760625835124\n",
      "iteration 6  likelihood =  -11.960644019670974\n",
      "iteration 7  likelihood =  -11.908848657157032\n",
      "iteration 8  likelihood =  -11.86786088883664\n",
      "iteration 9  likelihood =  -11.833882674009136\n",
      "iteration 10  likelihood =  -11.804593081398396\n",
      "iteration 11  likelihood =  -11.778705714390101\n",
      "iteration 12  likelihood =  -11.75510631668359\n",
      "iteration 13  likelihood =  -11.733413153894421\n",
      "iteration 14  likelihood =  -11.713950522388869\n",
      "iteration 15  likelihood =  -11.696950121777396\n",
      "iteration 16  likelihood =  -11.682204313006867\n",
      "iteration 17  likelihood =  -11.66828562873941\n",
      "iteration 18  likelihood =  -11.654498444787583\n",
      "iteration 19  likelihood =  -11.641607935197339\n",
      "iteration 20  likelihood =  -11.630481743512359\n",
      "iteration 21  likelihood =  -11.620730278967116\n",
      "iteration 22  likelihood =  -11.60984936605054\n",
      "iteration 23  likelihood =  -11.596580861319254\n",
      "iteration 24  likelihood =  -11.58660088866646\n",
      "iteration 25  likelihood =  -11.580182100705148\n",
      "iteration 26  likelihood =  -11.576016178631017\n",
      "iteration 27  likelihood =  -11.573148132356838\n",
      "iteration 28  likelihood =  -11.571006520139377\n",
      "iteration 29  likelihood =  -11.569276690641956\n",
      "iteration 30  likelihood =  -11.567808285296941\n",
      "iteration 31  likelihood =  -11.56654639843747\n",
      "iteration 32  likelihood =  -11.565450274671578\n",
      "iteration 33  likelihood =  -11.564437191089354\n",
      "iteration 34  likelihood =  -11.563374638237681\n",
      "iteration 35  likelihood =  -11.562082886533844\n",
      "iteration 36  likelihood =  -11.560352430154948\n",
      "iteration 37  likelihood =  -11.558050271014764\n",
      "iteration 38  likelihood =  -11.555327781667073\n",
      "iteration 39  likelihood =  -11.55267686080867\n",
      "iteration 40  likelihood =  -11.550510152897989\n",
      "iteration 41  likelihood =  -11.548895801784523\n",
      "iteration 42  likelihood =  -11.547730013045143\n",
      "iteration 43  likelihood =  -11.546876076291396\n",
      "iteration 44  likelihood =  -11.546220589690796\n",
      "iteration 45  likelihood =  -11.54568566506717\n",
      "iteration 46  likelihood =  -11.545220737606662\n",
      "iteration 47  likelihood =  -11.544792217009665\n",
      "iteration 48  likelihood =  -11.544377277250762\n",
      "iteration 49  likelihood =  -11.543962252746239\n",
      "iteration 50  likelihood =  -11.543543808467176\n",
      "iteration 51  likelihood =  -11.54312911751148\n",
      "iteration 52  likelihood =  -11.542731620059394\n",
      "iteration 53  likelihood =  -11.54236385022987\n",
      "iteration 54  likelihood =  -11.5420326749439\n",
      "iteration 55  likelihood =  -11.54173909600272\n",
      "iteration 56  likelihood =  -11.54148026741646\n",
      "iteration 57  likelihood =  -11.541251420402851\n",
      "iteration 58  likelihood =  -11.541047196162305\n",
      "iteration 59  likelihood =  -11.540862567650942\n",
      "iteration 60  likelihood =  -11.540693437794106\n",
      "iteration 61  likelihood =  -11.540536900968101\n",
      "iteration 62  likelihood =  -11.54039118855859\n",
      "iteration 63  likelihood =  -11.54025539679608\n",
      "iteration 64  likelihood =  -11.540129139078097\n"
     ]
    }
   ],
   "source": [
    "for times in range(65):\n",
    "    likelihood = 0\n",
    "    for t in range(len(studentPID)): #user t\n",
    "        sum_mul_probRgivenZ = 0\n",
    "        for i in range(4):\n",
    "            mul_probRgivenZ = 1    #calculate for every user, j belongs to Omega t, the multiplication of probRgivenZ.\n",
    "            for j in range(len(probRgivenZ)):\n",
    "                if rating[t][j] =='?':\n",
    "                    continue\n",
    "                elif rating[t][j] =='0':\n",
    "                    mul_probRgivenZ *= 1-probRgivenZ[j][i]\n",
    "                else:\n",
    "                    mul_probRgivenZ *= probRgivenZ[j][i]\n",
    "            mul_probRgivenZ = mul_probRgivenZ*probZ[i]\n",
    "            sum_mul_probRgivenZ += mul_probRgivenZ\n",
    "        likelihood += log(sum_mul_probRgivenZ)\n",
    "    likelihood = likelihood /(len(studentPID))\n",
    "    print('iteration',times,' likelihood = ',likelihood)\n",
    "    ################ E-step ########################\n",
    "    rou = []\n",
    "    for t in range(len(studentPID)):\n",
    "        rou_user = []\n",
    "        sum_mul_probRgivenZ = 0\n",
    "        for i in range(4):\n",
    "            mul_probRgivenZ = 1    #calculate for every user, j belongs to Omega t, the multiplication of probRgivenZ.\n",
    "            for j in range(len(probRgivenZ)):\n",
    "                if rating[t][j] =='?':\n",
    "                    continue\n",
    "                elif rating[t][j] =='0':\n",
    "                    mul_probRgivenZ *= 1-probRgivenZ[j][i]\n",
    "                else:\n",
    "                    mul_probRgivenZ *= probRgivenZ[j][i]\n",
    "            mul_probRgivenZ = mul_probRgivenZ*probZ[i]\n",
    "            rou_user.append(mul_probRgivenZ)\n",
    "            sum_mul_probRgivenZ += mul_probRgivenZ\n",
    "        for i in range(4):\n",
    "            rou_user[i] = rou_user[i]/sum_mul_probRgivenZ\n",
    "        rou.append(rou_user)\n",
    "    ################# M-step #######################\n",
    "    update_probZ = []\n",
    "    for i in range(4):\n",
    "        prob_z_i = 0\n",
    "        for t in range(len(studentPID)):\n",
    "            prob_z_i += rou[t][i]\n",
    "        prob_z_i = prob_z_i/len(studentPID)\n",
    "        update_probZ.append(prob_z_i)\n",
    "    update_probRgivenZ = []\n",
    "    for j in range(50):\n",
    "        per_movie = []\n",
    "        for i in range(4):\n",
    "            num1 = 0\n",
    "            num2 = 0\n",
    "            denominator = 0\n",
    "            for t in range(len(studentPID)):\n",
    "                denominator += rou[t][i]\n",
    "                if rating[t][j] == '1':\n",
    "                    num1 += rou[t][i]\n",
    "                elif rating[t][j] =='?':\n",
    "                    num2 += rou[t][i]*probRgivenZ[j][i]\n",
    "                else:\n",
    "                    continue\n",
    "            per_movie.append((num1+num2)/denominator)\n",
    "        update_probRgivenZ.append(per_movie)     \n",
    "    probZ = update_probZ\n",
    "    probRgivenZ = update_probRgivenZ\n",
    "    \n",
    "            "
   ]
  },
  {
   "cell_type": "code",
   "execution_count": 125,
   "metadata": {},
   "outputs": [
    {
     "name": "stdout",
     "output_type": "stream",
     "text": [
      "The posterior probability for the row from my trained model is : \n",
      "[ 0.009590536847491178\n",
      "  0.021922669980367248\n",
      "  0.001821733166512483\n",
      "  0.966665060005629   ]\n"
     ]
    }
   ],
   "source": [
    "#8.1 (f)\n",
    "my_index = studentPID.index('A53213765')\n",
    "my_data = rating[my_index]\n",
    "my_rou = rou[my_index]\n",
    "print('The posterior probability for the row from my trained model is : ')\n",
    "print('[',my_rou[0])\n",
    "print(' ',my_rou[1])\n",
    "print(' ',my_rou[2])\n",
    "print(' ',my_rou[3],'  ]')"
   ]
  },
  {
   "cell_type": "code",
   "execution_count": 118,
   "metadata": {
    "collapsed": true
   },
   "outputs": [],
   "source": [
    "not_seen = {}\n",
    "for movie_index in range(len(my_data)):\n",
    "    if my_data[movie_index] == '?':\n",
    "        expected_rating = 0\n",
    "        for i in range(4):\n",
    "            expected_rating += my_rou[i]*probRgivenZ[movie_index][i]\n",
    "        not_seen[movie_title[movie_index]] = expected_rating\n",
    "            \n",
    "        "
   ]
  },
  {
   "cell_type": "code",
   "execution_count": 127,
   "metadata": {},
   "outputs": [
    {
     "data": {
      "text/plain": [
       "[('The_Help', 0.035118044756033626),\n",
       " ('Bridemaids', 0.16461838128767836),\n",
       " ('World_War_Z', 0.2431793460734898),\n",
       " ('Room', 0.3189341222580677),\n",
       " ('Toy_Story_3', 0.34061055618953023),\n",
       " ('The_Last_Airbender', 0.3818583396127309),\n",
       " ('Pitch_Perfect', 0.430814287672144),\n",
       " ('Thor', 0.4644002847626714),\n",
       " ('Man_of_Steel', 0.48428348593616),\n",
       " ('Prometheus', 0.4864715992429235),\n",
       " ('Jurassic_World', 0.5344977507585111),\n",
       " ('21_Jump_Street', 0.5600138279015179),\n",
       " ('Frozen', 0.5690276479852795),\n",
       " ('Magic_Mike', 0.6072052238420473),\n",
       " ('Captain_America:_The_First_Avenger', 0.6088987396710249),\n",
       " ('Django_Unchained', 0.6121737544732642),\n",
       " ('Mad_Max:_Fury_Road', 0.6409821885115692),\n",
       " ('The_Revenant', 0.6459081553763055),\n",
       " ('X-Men:_First_Class', 0.6560818586973689),\n",
       " ('Iron_Man_2', 0.6607929066377504),\n",
       " ('The_Hateful_Eight', 0.6708842085908168),\n",
       " ('Star_Wars:_The_Force_Awakens', 0.6802500064636465),\n",
       " ('Gone_Girl', 0.7145707241869514),\n",
       " ('12_Years_a_Slave', 0.7513080985453203),\n",
       " ('Ex_Machina', 0.7715476604023027),\n",
       " ('Avengers:_Age_of_Ultron', 0.7741039664751153),\n",
       " ('The_Girls_with_the_Dragon_Tattoo', 0.7834856996089611),\n",
       " ('Wolf_of_Wall_Street', 0.793237304776406),\n",
       " ('Midnight_in_Paris', 0.8109402224030511),\n",
       " ('Les_Miserables', 0.8474045965203133),\n",
       " ('Drive', 0.8489144426753004),\n",
       " ('American_Hustle', 0.8811870606265134),\n",
       " ('The_Social_Network', 0.8953833593264506),\n",
       " ('The_Martian', 0.8988992821874364),\n",
       " ('The_Avengers', 0.9412437344021858),\n",
       " ('The_Dark_Knight_Rises', 0.9632653923285268),\n",
       " ('The_Perks_of_Being_a_Wallflower', 0.9886518724432136),\n",
       " ('Now_You_See_Me', 0.9900496035708816),\n",
       " ('The_Theory_of_Everything', 0.9916308512727602),\n",
       " ('Her', 0.9923139249037656),\n",
       " ('Shutter_Island', 0.9952370243014849),\n",
       " ('Interstellar', 0.9953275865797924),\n",
       " ('Inception', 0.999551929006019)]"
      ]
     },
     "execution_count": 127,
     "metadata": {},
     "output_type": "execute_result"
    }
   ],
   "source": [
    "import operator\n",
    "sorted_not_seen = sorted(not_seen.items(),key=operator.itemgetter(1))\n",
    "sorted_not_seen\n"
   ]
  }
 ],
 "metadata": {
  "kernelspec": {
   "display_name": "Python 3",
   "language": "python",
   "name": "python3"
  },
  "language_info": {
   "codemirror_mode": {
    "name": "ipython",
    "version": 3
   },
   "file_extension": ".py",
   "mimetype": "text/x-python",
   "name": "python",
   "nbconvert_exporter": "python",
   "pygments_lexer": "ipython3",
   "version": "3.6.2"
  }
 },
 "nbformat": 4,
 "nbformat_minor": 2
}
