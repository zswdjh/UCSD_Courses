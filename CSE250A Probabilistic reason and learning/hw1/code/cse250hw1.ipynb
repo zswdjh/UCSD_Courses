{
 "cells": [
  {
   "cell_type": "code",
   "execution_count": 1,
   "metadata": {
    "collapsed": true
   },
   "outputs": [],
   "source": [
    "from operator import itemgetter"
   ]
  },
  {
   "cell_type": "code",
   "execution_count": 3,
   "metadata": {},
   "outputs": [
    {
     "name": "stdout",
     "output_type": "stream",
     "text": [
      "The fifteen most frequent 5-letter words:(higher prob to lower prob)\n",
      "THREE\n",
      "SEVEN\n",
      "EIGHT\n",
      "WOULD\n",
      "ABOUT\n",
      "THEIR\n",
      "WHICH\n",
      "AFTER\n",
      "FIRST\n",
      "FIFTY\n",
      "OTHER\n",
      "FORTY\n",
      "YEARS\n",
      "THERE\n",
      "SIXTY\n",
      "The fourteen least frequent 5-letter word:(higher prob to lower prob)\n",
      "CCAIR\n",
      "CLEFT\n",
      "FABRI\n",
      "FOAMY\n",
      "NIAID\n",
      "PAXON\n",
      "SERNA\n",
      "TOCOR\n",
      "YALOM\n",
      "BOSAK\n",
      "CAIXA\n",
      "MAPCO\n",
      "OTTIS\n",
      "TROUP\n",
      "[['THREE', '273077', 0.03562714868653127], ['SEVEN', '178842', 0.023332724928853858], ['EIGHT', '165764', 0.021626496097709325], ['WOULD', '159875', 0.02085818430793947], ['ABOUT', '157448', 0.020541544349751077], ['THEIR', '145434', 0.018974130893766185], ['WHICH', '142146', 0.018545160072784138], ['AFTER', '110102', 0.01436452108630337], ['FIRST', '109957', 0.014345603577470525], ['FIFTY', '106869', 0.013942725872119989], ['OTHER', '106052', 0.013836135494765265], ['FORTY', '94951', 0.012387837111638222], ['YEARS', '88900', 0.011598389898206841], ['THERE', '86502', 0.01128553344178502], ['SIXTY', '73086', 0.009535207245223231]]\n"
     ]
    }
   ],
   "source": [
    "#part(a)\n",
    "data=[]\n",
    "with open('hw1_word_counts_05.txt',newline='')as inputfile:\n",
    "    for line in inputfile:\n",
    "        data.append(line.strip().split(' '))\n",
    "total_count=0\n",
    "for sub in range(len(data)):\n",
    "    total_count=total_count+int(data[sub][1])\n",
    "for sub in range(len(data)):\n",
    "    data[sub].append(int(data[sub][1])/total_count)\n",
    "data_b_to_s=sorted(data,key=itemgetter(2),reverse=True)\n",
    "print('The fifteen most frequent 5-letter words:(higher prob to lower prob)')\n",
    "for i in range(0,15):\n",
    "    print(data_b_to_s[i][0])\n",
    "print('The fourteen least frequent 5-letter word:(higher prob to lower prob)')\n",
    "for i in range(-14,-1):\n",
    "    print(data_b_to_s[i][0])\n",
    "print(data_b_to_s[-1][0])\n",
    "print(data_b_to_s[:15])"
   ]
  },
  {
   "cell_type": "code",
   "execution_count": 23,
   "metadata": {},
   "outputs": [
    {
     "name": "stdout",
     "output_type": "stream",
     "text": [
      "['E', 0.5394172389647974]\n"
     ]
    }
   ],
   "source": [
    "#part b (1)\n",
    "from operator import itemgetter\n",
    "def update_prob(letter):\n",
    "    data1=[]\n",
    "    for i in range(len(data)):\n",
    "        if letter in data[i][0]:\n",
    "            data1.append(data[i])\n",
    "    total_count1=0\n",
    "    for sub1 in range(len(data1)):\n",
    "        total_count1=total_count1+int(data1[sub1][1])\n",
    "    prob.append([letter,total_count1/total_count])    \n",
    "#import original data\n",
    "data=[]\n",
    "with open('hw1_word_counts_05.txt',newline='')as inputfile:\n",
    "    for line in inputfile:\n",
    "        data.append(line.strip().split(' '))\n",
    "total_count=0\n",
    "for sub in range(len(data)):\n",
    "    total_count=total_count+int(data[sub][1])\n",
    "    \n",
    "prob=[]\n",
    "letters=['A','B','C','D','E','F','G','H','I','G','K','L','M','N','O','P','Q','R','S','T','U','V','W','X','Y','Z']\n",
    "for i in letters:\n",
    "    update_prob(i)\n",
    "sorted_prob=sorted(prob,key=itemgetter(1),reverse=True)\n",
    "print(sorted_prob[0])"
   ]
  },
  {
   "cell_type": "code",
   "execution_count": 34,
   "metadata": {},
   "outputs": [
    {
     "name": "stdout",
     "output_type": "stream",
     "text": [
      "['O', 0.5340315651557658]\n"
     ]
    }
   ],
   "source": [
    "#partb (2)\n",
    "from operator import itemgetter\n",
    "def update_prob(letter):\n",
    "    data1=[]\n",
    "    for i in range(len(data)):\n",
    "        if letter in data[i][0]:\n",
    "            data1.append(data[i])\n",
    "    total_count1=0\n",
    "    for sub1 in range(len(data1)):\n",
    "        total_count1=total_count1+int(data1[sub1][1])\n",
    "    prob.append([letter,total_count1/total_count])    \n",
    "#\n",
    "original=[]\n",
    "with open('hw1_word_counts_05.txt')as inputfile:\n",
    "    for line in inputfile:\n",
    "        original.append(line.strip().split(' '))\n",
    "data=[]\n",
    "for i in range(len(original)):\n",
    "     if ('A' not in original[i][0]) and ('E' not in original[i][0]):\n",
    "        data.append(original[i])\n",
    "total_count=0\n",
    "for sub in range(len(data)):\n",
    "    total_count=total_count+int(data[sub][1])\n",
    "\n",
    "prob=[]\n",
    "letters=['A','B','C','D','E','F','G','H','I','G','K','L','M','N','O','P','Q','R','S','T','U','V','W','X','Y','Z']\n",
    "for i in letters:\n",
    "    update_prob(i)\n",
    "sorted_prob=sorted(prob,key=itemgetter(1),reverse=True)\n",
    "print(sorted_prob[0])\n",
    "    \n",
    "\n"
   ]
  },
  {
   "cell_type": "code",
   "execution_count": 25,
   "metadata": {},
   "outputs": [
    {
     "name": "stdout",
     "output_type": "stream",
     "text": [
      "['E', 0.7715371621621622]\n"
     ]
    }
   ],
   "source": [
    "#part b (3)\n",
    "from operator import itemgetter\n",
    "def update_prob(letter):\n",
    "    data1=[]\n",
    "    for i in range(len(data)):\n",
    "        if letter in data[i][0]:\n",
    "            data1.append(data[i])\n",
    "    total_count1=0\n",
    "    for sub1 in range(len(data1)):\n",
    "        total_count1=total_count1+int(data1[sub1][1])\n",
    "    prob.append([letter,total_count1/total_count])    \n",
    "    \n",
    "original=[]\n",
    "with open('hw1_word_counts_05.txt')as inputfile:\n",
    "    for line in inputfile:\n",
    "        original.append(line.strip().split(' '))\n",
    "        \n",
    "data=[]\n",
    "for i in range(len(original)):\n",
    "     if ( original[i][0].startswith('A')) and (original[i][0].endswith('S'))and(original[i][0][1] != \"A\")and(original[i][0][1]!=\"S\")and(original[i][0][2] != \"A\")and(original[i][0][2]!=\"S\")and(original[i][0][3] != \"A\")and(original[i][0][3]!=\"S\"):\n",
    "        data.append(original[i])\n",
    "total_count=0\n",
    "for sub in range(len(data)):\n",
    "    total_count=total_count+int(data[sub][1])\n",
    "\n",
    "prob=[]\n",
    "letters=['B','C','D','E','F','G','H','I','G','K','L','M','N','O','P','Q','R','T','U','V','W','X','Y','Z']\n",
    "for i in letters:\n",
    "    update_prob(i)\n",
    "sorted_prob=sorted(prob,key=itemgetter(1),reverse=True)\n",
    "print(sorted_prob[0])\n",
    "\n"
   ]
  },
  {
   "cell_type": "code",
   "execution_count": 32,
   "metadata": {},
   "outputs": [
    {
     "name": "stdout",
     "output_type": "stream",
     "text": [
      "['E', 0.7127008416220352]\n"
     ]
    }
   ],
   "source": [
    "#part b (4)\n",
    "from operator import itemgetter\n",
    "def update_prob(letter):\n",
    "    data1=[]\n",
    "    for i in range(len(data)):\n",
    "        if letter in data[i][0]:\n",
    "            data1.append(data[i])\n",
    "    total_count1=0\n",
    "    for sub1 in range(len(data1)):\n",
    "        total_count1=total_count1+int(data1[sub1][1])\n",
    "    prob.append([letter,total_count1/total_count])    \n",
    "    \n",
    "original=[]\n",
    "with open('hw1_word_counts_05.txt')as inputfile:\n",
    "    for line in inputfile:\n",
    "        original.append(line.strip().split(' '))\n",
    "        \n",
    "data=[]\n",
    "for i in range(len(original)):\n",
    "     if ( original[i][0].startswith('A')) and (original[i][0].endswith('S'))and(original[i][0][1] != \"A\")and(original[i][0][1]!=\"S\")and(original[i][0][2] != \"A\")and(original[i][0][2]!=\"S\")and(original[i][0][3] != \"A\")and(original[i][0][3]!=\"S\")and(original[i][0][1] != \"I\")and(original[i][0][2] != \"I\")and(original[i][0][3] != \"I\"):\n",
    "        data.append(original[i])\n",
    "total_count=0\n",
    "for sub in range(len(data)):\n",
    "    total_count=total_count+int(data[sub][1])\n",
    "\n",
    "prob=[]\n",
    "letters=['B','C','D','E','F','G','H','I','G','K','L','M','N','O','P','Q','R','T','U','V','W','X','Y','Z']\n",
    "for i in letters:\n",
    "    update_prob(i)\n",
    "sorted_prob=sorted(prob,key=itemgetter(1),reverse=True)\n",
    "print(sorted_prob[0])\n"
   ]
  },
  {
   "cell_type": "code",
   "execution_count": 33,
   "metadata": {},
   "outputs": [
    {
     "name": "stdout",
     "output_type": "stream",
     "text": [
      "['R', 0.7453866259829712]\n"
     ]
    }
   ],
   "source": [
    "#part b (5)\n",
    "from operator import itemgetter\n",
    "def update_prob(letter):\n",
    "    data1=[]\n",
    "    for i in range(len(data)):\n",
    "        if letter in data[i][0]:\n",
    "            data1.append(data[i])\n",
    "    total_count1=0\n",
    "    for sub1 in range(len(data1)):\n",
    "        total_count1=total_count1+int(data1[sub1][1])\n",
    "    prob.append([letter,total_count1/total_count])    \n",
    "    \n",
    "original=[]\n",
    "with open('hw1_word_counts_05.txt')as inputfile:\n",
    "    for line in inputfile:\n",
    "        original.append(line.strip().split(' '))\n",
    "        \n",
    "data=[]\n",
    "for i in range(len(original)):\n",
    "     if (original[i][0][2]==\"O\")and(original[i][0][0]!=\"A\")and(original[i][0][0]!=\"E\")and(original[i][0][0]!=\"M\")and(original[i][0][0]!=\"N\")and(original[i][0][0]!=\"T\")and(original[i][0][0]!=\"O\")and(original[i][0][1]!=\"A\")and(original[i][0][1]!=\"E\")and(original[i][0][1]!=\"M\")and(original[i][0][1]!=\"N\")and(original[i][0][1]!=\"T\")and(original[i][0][1]!=\"O\")and(original[i][0][3]!=\"A\")and(original[i][0][3]!=\"E\")and(original[i][0][3]!=\"M\")and(original[i][0][3]!=\"N\")and(original[i][0][3]!=\"T\")and(original[i][0][3]!=\"O\")and(original[i][0][4]!=\"A\")and(original[i][0][4]!=\"E\")and(original[i][0][4]!=\"M\")and(original[i][0][4]!=\"N\")and(original[i][0][4]!=\"T\")and(original[i][0][4]!=\"O\"):\n",
    "        data.append(original[i])\n",
    "total_count=0\n",
    "for sub in range(len(data)):\n",
    "    total_count=total_count+int(data[sub][1])\n",
    "\n",
    "prob=[]\n",
    "letters=['A','B','C','D','E','F','G','H','I','G','K','L','M','N','P','Q','R','S','T','U','V','W','X','Y','Z']\n",
    "for i in letters:\n",
    "    update_prob(i)\n",
    "sorted_prob=sorted(prob,key=itemgetter(1),reverse=True)\n",
    "print(sorted_prob[0])\n"
   ]
  },
  {
   "cell_type": "code",
   "execution_count": 35,
   "metadata": {},
   "outputs": [
    {
     "name": "stdout",
     "output_type": "stream",
     "text": [
      "['I', 0.6365554141009611]\n"
     ]
    }
   ],
   "source": [
    "#check answer(6)\n",
    "from operator import itemgetter\n",
    "def update_prob(letter):\n",
    "    data1=[]\n",
    "    for i in range(len(data)):\n",
    "        if letter in data[i][0]:\n",
    "            data1.append(data[i])\n",
    "    total_count1=0\n",
    "    for sub1 in range(len(data1)):\n",
    "        total_count1=total_count1+int(data1[sub1][1])\n",
    "    prob.append([letter,total_count1/total_count])    \n",
    "#\n",
    "original=[]\n",
    "with open('hw1_word_counts_05.txt')as inputfile:\n",
    "    for line in inputfile:\n",
    "        original.append(line.strip().split(' '))\n",
    "data=[]\n",
    "for i in range(len(original)):\n",
    "     if ('O' not in original[i][0]) and ('E' not in original[i][0]):\n",
    "        data.append(original[i])\n",
    "total_count=0\n",
    "for sub in range(len(data)):\n",
    "    total_count=total_count+int(data[sub][1])\n",
    "\n",
    "prob=[]\n",
    "letters=['A','B','C','D','E','F','G','H','I','G','K','L','M','N','O','P','Q','R','S','T','U','V','W','X','Y','Z']\n",
    "for i in letters:\n",
    "    update_prob(i)\n",
    "sorted_prob=sorted(prob,key=itemgetter(1),reverse=True)\n",
    "print(sorted_prob[0])\n",
    "    \n"
   ]
  },
  {
   "cell_type": "code",
   "execution_count": 28,
   "metadata": {},
   "outputs": [
    {
     "name": "stdout",
     "output_type": "stream",
     "text": [
      "['A', 0.8206845238095238]\n"
     ]
    }
   ],
   "source": [
    "#check (7)\n",
    "from operator import itemgetter\n",
    "def update_prob(letter):\n",
    "    data1=[]\n",
    "    for i in range(len(data)):\n",
    "        if letter in data[i][0]:\n",
    "            data1.append(data[i])\n",
    "    total_count1=0\n",
    "    for sub1 in range(len(data1)):\n",
    "        total_count1=total_count1+int(data1[sub1][1])\n",
    "    prob.append([letter,total_count1/total_count])    \n",
    "    \n",
    "original=[]\n",
    "with open('hw1_word_counts_05.txt')as inputfile:\n",
    "    for line in inputfile:\n",
    "        original.append(line.strip().split(' '))\n",
    "        \n",
    "data=[]\n",
    "for i in range(len(original)):\n",
    "     if ( original[i][0].startswith('D'))and(original[i][0][3]==\"I\")and(original[i][0][1] != \"D\")and(original[i][0][1]!=\"I\")and(original[i][0][2] != \"D\")and(original[i][0][2]!=\"I\")and(original[i][0][4] != \"D\")and(original[i][0][4]!=\"I\"):\n",
    "        data.append(original[i])\n",
    "total_count=0\n",
    "for sub in range(len(data)):\n",
    "    total_count=total_count+int(data[sub][1])\n",
    "\n",
    "prob=[]\n",
    "letters=['A','B','C','E','F','G','H','G','K','L','M','N','O','P','Q','R','S','T','U','V','W','X','Y','Z']\n",
    "for i in letters:\n",
    "    update_prob(i)\n",
    "sorted_prob=sorted(prob,key=itemgetter(1),reverse=True)\n",
    "print(sorted_prob[0])\n",
    "\n"
   ]
  },
  {
   "cell_type": "code",
   "execution_count": 29,
   "metadata": {},
   "outputs": [
    {
     "name": "stdout",
     "output_type": "stream",
     "text": [
      "['E', 0.7520746887966805]\n"
     ]
    }
   ],
   "source": [
    "#check(8)\n",
    "from operator import itemgetter\n",
    "def update_prob(letter):\n",
    "    data1=[]\n",
    "    for i in range(len(data)):\n",
    "        if letter in data[i][0]:\n",
    "            data1.append(data[i])\n",
    "    total_count1=0\n",
    "    for sub1 in range(len(data1)):\n",
    "        total_count1=total_count1+int(data1[sub1][1])\n",
    "    prob.append([letter,total_count1/total_count])    \n",
    "    \n",
    "original=[]\n",
    "with open('hw1_word_counts_05.txt')as inputfile:\n",
    "    for line in inputfile:\n",
    "        original.append(line.strip().split(' '))\n",
    "        \n",
    "data=[]\n",
    "for i in range(len(original)):\n",
    "     if ( original[i][0].startswith('D'))and(original[i][0][3]==\"I\")and(original[i][0][1] != \"D\")and(original[i][0][1]!=\"I\")and(original[i][0][1]!=\"A\")and(original[i][0][2] != \"D\")and(original[i][0][2]!=\"I\")and(original[i][0][2]!=\"A\")and(original[i][0][4] != \"D\")and(original[i][0][4]!=\"I\")and(original[i][0][4]!=\"A\"):\n",
    "        data.append(original[i])\n",
    "total_count=0\n",
    "for sub in range(len(data)):\n",
    "    total_count=total_count+int(data[sub][1])\n",
    "\n",
    "prob=[]\n",
    "letters=['A','B','C','E','F','G','H','G','K','L','M','N','O','P','Q','R','S','T','U','V','W','X','Y','Z']\n",
    "for i in letters:\n",
    "    update_prob(i)\n",
    "sorted_prob=sorted(prob,key=itemgetter(1),reverse=True)\n",
    "print(sorted_prob[0])"
   ]
  },
  {
   "cell_type": "code",
   "execution_count": 30,
   "metadata": {},
   "outputs": [
    {
     "name": "stdout",
     "output_type": "stream",
     "text": [
      "['Y', 0.626965110163053]\n"
     ]
    }
   ],
   "source": [
    "#check for answer (9)\n",
    "from operator import itemgetter\n",
    "def update_prob(letter):\n",
    "    data1=[]\n",
    "    for i in range(len(data)):\n",
    "        if letter in data[i][0]:\n",
    "            data1.append(data[i])\n",
    "    total_count1=0\n",
    "    for sub1 in range(len(data1)):\n",
    "        total_count1=total_count1+int(data1[sub1][1])\n",
    "    prob.append([letter,total_count1/total_count])    \n",
    "    \n",
    "original=[]\n",
    "with open('hw1_word_counts_05.txt')as inputfile:\n",
    "    for line in inputfile:\n",
    "        original.append(line.strip().split(' '))\n",
    "        \n",
    "data=[]\n",
    "for i in range(len(original)):\n",
    "     if (original[i][0][1]==\"U\")and(original[i][0][0]!=\"A\")and(original[i][0][0]!=\"E\")and(original[i][0][0]!=\"I\")and(original[i][0][0]!=\"O\")and(original[i][0][0]!=\"S\")and(original[i][0][0]!=\"U\")and(original[i][0][2]!=\"A\")and(original[i][0][2]!=\"E\")and(original[i][0][2]!=\"I\")and(original[i][0][2]!=\"O\")and(original[i][0][2]!=\"S\")and(original[i][0][2]!=\"U\")and(original[i][0][3]!=\"A\")and(original[i][0][3]!=\"E\")and(original[i][0][3]!=\"I\")and(original[i][0][3]!=\"O\")and(original[i][0][3]!=\"S\")and(original[i][0][3]!=\"U\")and(original[i][0][4]!=\"A\")and(original[i][0][4]!=\"E\")and(original[i][0][4]!=\"I\")and(original[i][0][4]!=\"O\")and(original[i][0][4]!=\"S\")and(original[i][0][4]!=\"U\"):\n",
    "        data.append(original[i])\n",
    "total_count=0\n",
    "for sub in range(len(data)):\n",
    "    total_count=total_count+int(data[sub][1])\n",
    "\n",
    "prob=[]\n",
    "letters=['A','B','C','D','E','F','G','H','I','G','K','L','M','N','O','P','Q','R','S','T','V','W','X','Y','Z']\n",
    "for i in letters:\n",
    "    update_prob(i)\n",
    "sorted_prob=sorted(prob,key=itemgetter(1),reverse=True)\n",
    "print(sorted_prob[0])\n"
   ]
  }
 ],
 "metadata": {
  "kernelspec": {
   "display_name": "Python 3",
   "language": "python",
   "name": "python3"
  },
  "language_info": {
   "codemirror_mode": {
    "name": "ipython",
    "version": 3
   },
   "file_extension": ".py",
   "mimetype": "text/x-python",
   "name": "python",
   "nbconvert_exporter": "python",
   "pygments_lexer": "ipython3",
   "version": "3.6.2"
  }
 },
 "nbformat": 4,
 "nbformat_minor": 2
}
