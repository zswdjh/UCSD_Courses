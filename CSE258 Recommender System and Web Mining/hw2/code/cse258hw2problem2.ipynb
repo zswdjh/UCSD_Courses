{
 "cells": [
  {
   "cell_type": "code",
   "execution_count": 2,
   "metadata": {
    "collapsed": true
   },
   "outputs": [],
   "source": [
    "import numpy\n",
    "import urllib.request\n",
    "import scipy.optimize\n",
    "import random\n",
    "from sklearn.decomposition import PCA\n",
    "from collections import defaultdict"
   ]
  },
  {
   "cell_type": "code",
   "execution_count": 3,
   "metadata": {},
   "outputs": [
    {
     "name": "stdout",
     "output_type": "stream",
     "text": [
      "Reading data...\n",
      "done\n"
     ]
    }
   ],
   "source": [
    "### PCA on beer reviews ###\n",
    "def parseData(fname):\n",
    "      for l in urllib.request.urlopen(fname):\n",
    "            yield eval(l)\n",
    "\n",
    "print (\"Reading data...\")\n",
    "data = list(parseData(\"http://jmcauley.ucsd.edu/cse190/data/beer/beer_50000.json\"))\n",
    "print (\"done\")\n"
   ]
  },
  {
   "cell_type": "code",
   "execution_count": null,
   "metadata": {},
   "outputs": [],
   "source": []
  },
  {
   "cell_type": "code",
   "execution_count": 4,
   "metadata": {
    "collapsed": true
   },
   "outputs": [],
   "source": [
    "def feature(datum):\n",
    "    datum_text=datum['review/text'].lower().split()\n",
    "    feat = [datum_text.count(\"lactic\"),datum_text.count(\"tart\"),datum_text.count(\"sour\"),datum_text.count(\"citric\"),datum_text.count(\"sweet\"),datum_text.count(\"acid\"),datum_text.count(\"hop\"),datum_text.count(\"fruit\"),datum_text.count(\"salt\"),datum_text.count(\"spicy\")]\n",
    "    return feat\n"
   ]
  },
  {
   "cell_type": "code",
   "execution_count": 44,
   "metadata": {},
   "outputs": [],
   "source": [
    "X = [feature(d) for d in data]\n",
    "X_train = X[:int(len(X)/3)]\n"
   ]
  },
  {
   "cell_type": "code",
   "execution_count": 63,
   "metadata": {},
   "outputs": [
    {
     "data": {
      "text/plain": [
       "0.33108369081315764"
      ]
     },
     "execution_count": 63,
     "metadata": {},
     "output_type": "execute_result"
    }
   ],
   "source": [
    "pca = PCA(n_components=2)\n",
    "pca.fit(X_train)\n",
    "#print (pca.components_)\n",
    "#after using pca.fit_transform, we get loadings for each samples.\n",
    "#meaning how much of each component you need to describe it best using a linear combination of the components_ (the principal axes in feature space).\n",
    "X_train_pca=pca.fit_transform(X_train)\n",
    "X_projected = pca.inverse_transform(X_train_pca)\n",
    "loss = np.mean((X_train - X_projected)** 2)*10\n",
    "loss\n"
   ]
  },
  {
   "cell_type": "code",
   "execution_count": 54,
   "metadata": {},
   "outputs": [],
   "source": [
    "judge=[1 if d['beer/style'] == 'American IPA' else 0 for d in data ]\n",
    "judge_ipa=judge[:int(len(y)/3)]\n"
   ]
  },
  {
   "cell_type": "code",
   "execution_count": 55,
   "metadata": {},
   "outputs": [],
   "source": [
    "import matplotlib.pyplot as plt\n",
    "import numpy as np\n",
    "\n",
    "data_IPA=[X_train_pca[i] for i in range(len(X_train)) if judge_ipa[i]==1]\n",
    "data_else=[X_train_pca[i] for i in range(len(X_train)) if judge_ipa[i]==0]\n",
    "for i in range(len(data_IPA)):\n",
    "    data_IPA[i]=data_IPA[i].tolist()\n",
    "data_IPA=np.array(data_IPA)\n",
    "for i in range(len(data_else)):\n",
    "    data_else[i]=data_else[i].tolist()\n",
    "data_else=np.array(data_else)\n",
    "\n",
    "\n"
   ]
  },
  {
   "cell_type": "code",
   "execution_count": 57,
   "metadata": {},
   "outputs": [
    {
     "data": {
      "image/png": "[encoded data removed]",
      "text/plain": [
       "<matplotlib.figure.Figure at 0x1a27debe48>"
      ]
     },
     "metadata": {},
     "output_type": "display_data"
    }
   ],
   "source": [
    "x_ipa=data_IPA[:,0]\n",
    "y_ipa=data_IPA[:,1]\n",
    "x_else=data_else[:,0]\n",
    "y_else=data_else[:,1]\n",
    "ipa=plt.scatter(x_ipa,y_ipa,color = 'red')\n",
    "other=plt.scatter(x_else,y_else,color = 'blue')\n",
    "plt.legend((ipa,other),('American IPA','Other beer'))\n",
    "plt.show()\n"
   ]
  },
  {
   "cell_type": "code",
   "execution_count": null,
   "metadata": {
    "collapsed": true
   },
   "outputs": [],
   "source": []
  }
 ],
 "metadata": {
  "kernelspec": {
   "display_name": "Python 3",
   "language": "python",
   "name": "python3"
  },
  "language_info": {
   "codemirror_mode": {
    "name": "ipython",
    "version": 3
   },
   "file_extension": ".py",
   "mimetype": "text/x-python",
   "name": "python",
   "nbconvert_exporter": "python",
   "pygments_lexer": "ipython3",
   "version": "3.6.2"
  }
 },
 "nbformat": 4,
 "nbformat_minor": 2
}
