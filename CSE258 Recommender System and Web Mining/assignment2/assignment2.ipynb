{
 "cells": [
  {
   "cell_type": "code",
   "execution_count": 56,
   "metadata": {
    "collapsed": true
   },
   "outputs": [],
   "source": [
    "import pandas as pd\n",
    "import numpy as np\n",
    "from sklearn import linear_model\n",
    "from math import log10\n",
    "from sklearn.ensemble import RandomForestRegressor\n",
    "from sklearn.model_selection import GridSearchCV\n",
    "from sklearn.model_selection import cross_val_score\n",
    "import matplotlib.pyplot as plt"
   ]
  },
  {
   "cell_type": "code",
   "execution_count": 2,
   "metadata": {},
   "outputs": [],
   "source": [
    "data = pd.read_csv('autos.csv',sep=',',header = 0,encoding ='cp1252')"
   ]
  },
  {
   "cell_type": "code",
   "execution_count": 3,
   "metadata": {},
   "outputs": [
    {
     "data": {
      "text/html": [
       "<div>\n",
       "<style>\n",
       "    .dataframe thead tr:only-child th {\n",
       "        text-align: right;\n",
       "    }\n",
       "\n",
       "    .dataframe thead th {\n",
       "        text-align: left;\n",
       "    }\n",
       "\n",
       "    .dataframe tbody tr th {\n",
       "        vertical-align: top;\n",
       "    }\n",
       "</style>\n",
       "<table border=\"1\" class=\"dataframe\">\n",
       "  <thead>\n",
       "    <tr style=\"text-align: right;\">\n",
       "      <th></th>\n",
       "      <th>dateCrawled</th>\n",
       "      <th>name</th>\n",
       "      <th>seller</th>\n",
       "      <th>offerType</th>\n",
       "      <th>price</th>\n",
       "      <th>abtest</th>\n",
       "      <th>vehicleType</th>\n",
       "      <th>yearOfRegistration</th>\n",
       "      <th>gearbox</th>\n",
       "      <th>powerPS</th>\n",
       "      <th>model</th>\n",
       "      <th>kilometer</th>\n",
       "      <th>monthOfRegistration</th>\n",
       "      <th>fuelType</th>\n",
       "      <th>brand</th>\n",
       "      <th>notRepairedDamage</th>\n",
       "      <th>dateCreated</th>\n",
       "      <th>nrOfPictures</th>\n",
       "      <th>postalCode</th>\n",
       "      <th>lastSeen</th>\n",
       "    </tr>\n",
       "  </thead>\n",
       "  <tbody>\n",
       "    <tr>\n",
       "      <th>227107</th>\n",
       "      <td>2016-03-09 18:55:26</td>\n",
       "      <td>Mondeo_2.0__mit_Tuev</td>\n",
       "      <td>privat</td>\n",
       "      <td>Angebot</td>\n",
       "      <td>1200</td>\n",
       "      <td>test</td>\n",
       "      <td>NaN</td>\n",
       "      <td>2017</td>\n",
       "      <td>manuell</td>\n",
       "      <td>116</td>\n",
       "      <td>mondeo</td>\n",
       "      <td>150000</td>\n",
       "      <td>1</td>\n",
       "      <td>NaN</td>\n",
       "      <td>ford</td>\n",
       "      <td>nein</td>\n",
       "      <td>2016-03-09 00:00:00</td>\n",
       "      <td>0</td>\n",
       "      <td>79822</td>\n",
       "      <td>2016-04-07 14:57:32</td>\n",
       "    </tr>\n",
       "    <tr>\n",
       "      <th>24979</th>\n",
       "      <td>2016-04-03 19:38:55</td>\n",
       "      <td>BMW_Z4_Cabrio_Bj._2005_2._Hand._Garage_Super_o...</td>\n",
       "      <td>privat</td>\n",
       "      <td>Angebot</td>\n",
       "      <td>9400</td>\n",
       "      <td>test</td>\n",
       "      <td>cabrio</td>\n",
       "      <td>2005</td>\n",
       "      <td>manuell</td>\n",
       "      <td>150</td>\n",
       "      <td>z_reihe</td>\n",
       "      <td>150000</td>\n",
       "      <td>6</td>\n",
       "      <td>benzin</td>\n",
       "      <td>bmw</td>\n",
       "      <td>nein</td>\n",
       "      <td>2016-04-03 00:00:00</td>\n",
       "      <td>0</td>\n",
       "      <td>90411</td>\n",
       "      <td>2016-04-03 19:38:55</td>\n",
       "    </tr>\n",
       "  </tbody>\n",
       "</table>\n",
       "</div>"
      ],
      "text/plain": [
       "                dateCrawled  \\\n",
       "227107  2016-03-09 18:55:26   \n",
       "24979   2016-04-03 19:38:55   \n",
       "\n",
       "                                                     name  seller offerType  \\\n",
       "227107                               Mondeo_2.0__mit_Tuev  privat   Angebot   \n",
       "24979   BMW_Z4_Cabrio_Bj._2005_2._Hand._Garage_Super_o...  privat   Angebot   \n",
       "\n",
       "        price abtest vehicleType  yearOfRegistration  gearbox  powerPS  \\\n",
       "227107   1200   test         NaN                2017  manuell      116   \n",
       "24979    9400   test      cabrio                2005  manuell      150   \n",
       "\n",
       "          model  kilometer  monthOfRegistration fuelType brand  \\\n",
       "227107   mondeo     150000                    1      NaN  ford   \n",
       "24979   z_reihe     150000                    6   benzin   bmw   \n",
       "\n",
       "       notRepairedDamage          dateCreated  nrOfPictures  postalCode  \\\n",
       "227107              nein  2016-03-09 00:00:00             0       79822   \n",
       "24979               nein  2016-04-03 00:00:00             0       90411   \n",
       "\n",
       "                   lastSeen  \n",
       "227107  2016-04-07 14:57:32  \n",
       "24979   2016-04-03 19:38:55  "
      ]
     },
     "execution_count": 3,
     "metadata": {},
     "output_type": "execute_result"
    }
   ],
   "source": [
    "data.sample(2)"
   ]
  },
  {
   "cell_type": "code",
   "execution_count": null,
   "metadata": {},
   "outputs": [],
   "source": [
    "#data.describe()"
   ]
  },
  {
   "cell_type": "code",
   "execution_count": 4,
   "metadata": {},
   "outputs": [],
   "source": [
    "#data pre-processing : throw useless columns\n",
    "data.drop(['dateCrawled','seller','offerType','abtest','notRepairedDamage','nrOfPictures','lastSeen','postalCode','dateCreated','model','monthOfRegistration'],axis = 'columns',inplace = True)"
   ]
  },
  {
   "cell_type": "code",
   "execution_count": 5,
   "metadata": {},
   "outputs": [
    {
     "data": {
      "text/html": [
       "<div>\n",
       "<style>\n",
       "    .dataframe thead tr:only-child th {\n",
       "        text-align: right;\n",
       "    }\n",
       "\n",
       "    .dataframe thead th {\n",
       "        text-align: left;\n",
       "    }\n",
       "\n",
       "    .dataframe tbody tr th {\n",
       "        vertical-align: top;\n",
       "    }\n",
       "</style>\n",
       "<table border=\"1\" class=\"dataframe\">\n",
       "  <thead>\n",
       "    <tr style=\"text-align: right;\">\n",
       "      <th></th>\n",
       "      <th>name</th>\n",
       "      <th>price</th>\n",
       "      <th>vehicleType</th>\n",
       "      <th>yearOfRegistration</th>\n",
       "      <th>gearbox</th>\n",
       "      <th>powerPS</th>\n",
       "      <th>kilometer</th>\n",
       "      <th>fuelType</th>\n",
       "      <th>brand</th>\n",
       "    </tr>\n",
       "  </thead>\n",
       "  <tbody>\n",
       "    <tr>\n",
       "      <th>132366</th>\n",
       "      <td>Peugeot_206_HDI_Quiksilver_mit_Webasto_Standhe...</td>\n",
       "      <td>1200</td>\n",
       "      <td>NaN</td>\n",
       "      <td>2005</td>\n",
       "      <td>manuell</td>\n",
       "      <td>110</td>\n",
       "      <td>150000</td>\n",
       "      <td>NaN</td>\n",
       "      <td>peugeot</td>\n",
       "    </tr>\n",
       "    <tr>\n",
       "      <th>146127</th>\n",
       "      <td>Ford_Focus_Fun</td>\n",
       "      <td>4100</td>\n",
       "      <td>kombi</td>\n",
       "      <td>2007</td>\n",
       "      <td>manuell</td>\n",
       "      <td>101</td>\n",
       "      <td>90000</td>\n",
       "      <td>benzin</td>\n",
       "      <td>ford</td>\n",
       "    </tr>\n",
       "  </tbody>\n",
       "</table>\n",
       "</div>"
      ],
      "text/plain": [
       "                                                     name  price vehicleType  \\\n",
       "132366  Peugeot_206_HDI_Quiksilver_mit_Webasto_Standhe...   1200         NaN   \n",
       "146127                                     Ford_Focus_Fun   4100       kombi   \n",
       "\n",
       "        yearOfRegistration  gearbox  powerPS  kilometer fuelType    brand  \n",
       "132366                2005  manuell      110     150000      NaN  peugeot  \n",
       "146127                2007  manuell      101      90000   benzin     ford  "
      ]
     },
     "execution_count": 5,
     "metadata": {},
     "output_type": "execute_result"
    }
   ],
   "source": [
    "data.sample(2)"
   ]
  },
  {
   "cell_type": "code",
   "execution_count": 6,
   "metadata": {},
   "outputs": [
    {
     "name": "stdout",
     "output_type": "stream",
     "text": [
      "Too new: 14680\n",
      "Too old: 4119\n",
      "Too cheap: 13320\n",
      "Too expensive:  232\n",
      "Too few km:  0\n",
      "Too many km:  0\n",
      "Too few PS:  41040\n",
      "Too many PS:  835\n",
      "Vehicle types:  [nan 'coupe' 'suv' 'kleinwagen' 'limousine' 'cabrio' 'bus' 'kombi' 'andere']\n",
      "brand types: ['volkswagen' 'audi' 'jeep' 'skoda' 'bmw' 'peugeot' 'ford' 'mazda' 'nissan'\n",
      " 'renault' 'mercedes_benz' 'opel' 'seat' 'citroen' 'honda' 'fiat' 'mini'\n",
      " 'smart' 'hyundai' 'sonstige_autos' 'alfa_romeo' 'subaru' 'volvo'\n",
      " 'mitsubishi' 'kia' 'suzuki' 'lancia' 'porsche' 'toyota' 'chevrolet'\n",
      " 'dacia' 'daihatsu' 'trabant' 'saab' 'chrysler' 'jaguar' 'daewoo' 'rover'\n",
      " 'land_rover' 'lada']\n",
      "fuelType: ['benzin' 'diesel' nan 'lpg' 'andere' 'hybrid' 'cng' 'elektro']\n"
     ]
    }
   ],
   "source": [
    "# throw extreme examples\n",
    "print(\"Too new: %d\" % data.loc[data.yearOfRegistration >= 2017].count()['name'])\n",
    "print(\"Too old: %d\" % data.loc[data.yearOfRegistration < 1980].count()['name'])\n",
    "print(\"Too cheap: %d\" % data.loc[data.price < 100].count()['name'])\n",
    "print(\"Too expensive: \" , data.loc[data.price > 150000].count()['name'])\n",
    "print(\"Too few km: \" , data.loc[data.kilometer < 5000].count()['name'])\n",
    "print(\"Too many km: \" , data.loc[data.kilometer > 200000].count()['name'])\n",
    "print(\"Too few PS: \" , data.loc[data.powerPS < 10].count()['name'])\n",
    "print(\"Too many PS: \" , data.loc[data.powerPS > 500].count()['name'])\n",
    "print(\"Vehicle types: \" , data['vehicleType'].unique())\n",
    "print('brand types:',data['brand'].unique())\n",
    "print('fuelType:',data['fuelType'].unique())\n"
   ]
  },
  {
   "cell_type": "code",
   "execution_count": null,
   "metadata": {
    "collapsed": true
   },
   "outputs": [],
   "source": []
  },
  {
   "cell_type": "code",
   "execution_count": 8,
   "metadata": {},
   "outputs": [],
   "source": [
    "#drop duplicate \n",
    "dedups = data.drop_duplicates(['name','price','vehicleType','yearOfRegistration','gearbox','powerPS','kilometer','brand','fuelType'])"
   ]
  },
  {
   "cell_type": "code",
   "execution_count": 9,
   "metadata": {
    "collapsed": true
   },
   "outputs": [],
   "source": [
    "dedups = dedups[(dedups.yearOfRegistration <= 2016) \n",
    "      & (dedups.yearOfRegistration >= 1980) \n",
    "      & (dedups.price >= 1000) \n",
    "      & (dedups.price <= 150000) \n",
    "      & (dedups.powerPS >= 50)     # \n",
    "      & (dedups.powerPS <= 350)]   #"
   ]
  },
  {
   "cell_type": "code",
   "execution_count": 10,
   "metadata": {},
   "outputs": [
    {
     "name": "stdout",
     "output_type": "stream",
     "text": [
      "-----------------\n",
      " After drop duplica and extrem example, Data kept for analisys: 65 percent of the entire set\n",
      "-----------------\n"
     ]
    }
   ],
   "source": [
    "print(\"-----------------\\n After drop duplica and extrem example, Data kept for analisys: %d percent of the entire set\\n-----------------\" % (100 * dedups['name'].count() / data['name'].count()))"
   ]
  },
  {
   "cell_type": "code",
   "execution_count": 11,
   "metadata": {},
   "outputs": [
    {
     "data": {
      "text/plain": [
       "name                     0\n",
       "price                    0\n",
       "vehicleType           5912\n",
       "yearOfRegistration       0\n",
       "gearbox               3264\n",
       "powerPS                  0\n",
       "kilometer                0\n",
       "fuelType              9258\n",
       "brand                    0\n",
       "dtype: int64"
      ]
     },
     "execution_count": 11,
     "metadata": {},
     "output_type": "execute_result"
    }
   ],
   "source": [
    "dedups.isnull().sum()"
   ]
  },
  {
   "cell_type": "code",
   "execution_count": 12,
   "metadata": {},
   "outputs": [],
   "source": [
    "dedups_nonull = dedups.dropna()  "
   ]
  },
  {
   "cell_type": "code",
   "execution_count": 13,
   "metadata": {},
   "outputs": [
    {
     "name": "stdout",
     "output_type": "stream",
     "text": [
      "-----------------\n",
      "After dropping all Null,Data kept for analisys: 61 percent of the entire set\n",
      "-----------------\n"
     ]
    }
   ],
   "source": [
    "print(\"-----------------\\nAfter dropping all Null,Data kept for analisys: %d percent of the entire set\\n-----------------\" % (100 * dedups_nonull['name'].count() / data['name'].count()))"
   ]
  },
  {
   "cell_type": "code",
   "execution_count": 14,
   "metadata": {},
   "outputs": [],
   "source": [
    "wholedata = dedups_nonull\n"
   ]
  },
  {
   "cell_type": "code",
   "execution_count": 15,
   "metadata": {},
   "outputs": [
    {
     "name": "stdout",
     "output_type": "stream",
     "text": [
      "Vehicle types:  ['coupe' 'suv' 'kleinwagen' 'cabrio' 'bus' 'limousine' 'kombi' 'andere']\n",
      "brand types: ['audi' 'jeep' 'volkswagen' 'skoda' 'peugeot' 'ford' 'mazda' 'nissan'\n",
      " 'renault' 'mercedes_benz' 'bmw' 'honda' 'mini' 'smart' 'subaru' 'volvo'\n",
      " 'mitsubishi' 'opel' 'hyundai' 'alfa_romeo' 'kia' 'seat' 'lancia' 'porsche'\n",
      " 'citroen' 'fiat' 'toyota' 'chevrolet' 'dacia' 'suzuki' 'daihatsu'\n",
      " 'chrysler' 'sonstige_autos' 'jaguar' 'rover' 'saab' 'daewoo' 'land_rover'\n",
      " 'lada' 'trabant']\n",
      "gear box:  ['manuell' 'automatik']\n",
      "fuelType ['diesel' 'benzin' 'lpg' 'andere' 'hybrid' 'cng' 'elektro']\n"
     ]
    }
   ],
   "source": [
    "print(\"Vehicle types: \" , wholedata['vehicleType'].unique())\n",
    "print('brand types:',wholedata['brand'].unique())\n",
    "print(\"gear box: \" , wholedata['gearbox'].unique())\n",
    "print('fuelType',wholedata['fuelType'].unique())"
   ]
  },
  {
   "cell_type": "code",
   "execution_count": 16,
   "metadata": {},
   "outputs": [],
   "source": [
    "gear_type = list(wholedata['gearbox'].unique())\n",
    "vehicle_type = list(wholedata['vehicleType'].unique())\n",
    "brand_type = list(wholedata['brand'].unique())\n",
    "fuel_type = list(wholedata['fuelType'].unique())"
   ]
  },
  {
   "cell_type": "code",
   "execution_count": 17,
   "metadata": {},
   "outputs": [],
   "source": [
    "gear_dict = dict(zip(gear_type,[x for x in range(1,len(gear_type)+1)]))\n",
    "vehicle_dict = dict(zip(vehicle_type,[x for x in range(1,len(vehicle_type)+1)]))\n",
    "brand_dict = dict(zip(brand_type,[x for x in range(1,len(brand_type)+1)]))\n",
    "fuel_dict = dict(zip(fuel_type,[x for x in range(1,len(fuel_type)+1)]))"
   ]
  },
  {
   "cell_type": "code",
   "execution_count": 176,
   "metadata": {},
   "outputs": [],
   "source": [
    "gear = list(wholedata.gearbox)\n",
    "gear_list = [0]*len(gear)\n",
    "for i in range(len(gear)):\n",
    "    gear_list[i] = gear_dict[gear[i]]\n",
    "vehicle = list(wholedata.vehicleType)\n",
    "vehicle_list = [0]*len(vehicle)\n",
    "for i in range(len(vehicle)):\n",
    "    vehicle_list[i] = vehicle_dict[vehicle[i]]\n",
    "brand = list(wholedata.brand)\n",
    "brand_list = [0]*len(brand)\n",
    "for i in range(len(brand)):\n",
    "    brand_list[i] = brand_dict[brand[i]]\n",
    "name = list(wholedata.name)\n",
    "namelen_list = [0]*len(name)\n",
    "for i in range(len(name)):\n",
    "    namelen_list[i] = len(name[i])\n",
    "fuel = list(wholedata.fuelType)\n",
    "fuel_list = [0]*len(fuel)\n",
    "for i in range(len(fuel)):\n",
    "    fuel_list[i] = fuel_dict[fuel[i]]\n"
   ]
  },
  {
   "cell_type": "code",
   "execution_count": 181,
   "metadata": {},
   "outputs": [],
   "source": [
    "#########################################\n",
    "#########   linear regression   #########\n",
    "#########################################\n",
    "#create X_training and y_training for linear regression  \n",
    "#namelen_list\n",
    "#vehicle_list\n",
    "year_list = list(wholedata.yearOfRegistration)\n",
    "#gear_list\n",
    "price_list = list(wholedata.price)\n",
    "price_list = [log10(y) for y in price_list]\n",
    "powerPS_list = list(wholedata.powerPS)\n",
    "kilo_list = list(wholedata.kilometer)\n",
    "#brand_list\n",
    "\n",
    "X = []\n",
    "for i in range(len(wholedata)):\n",
    "    #datum = [1,namelen_list[i],vehicle_list[i],year_list[i],gear_list[i],powerPS_list[i],kilo_list[i],brand_list[i]]\n",
    "    datum = [1,namelen_list[i],year_list[i],gear_list[i],powerPS_list[i],kilo_list[i],brand_list[i],fuel_list[i]]\n",
    "    X.append(datum)\n",
    "y = price_list\n",
    "training_len = int(0.64*len(wholedata))    #training 50%\n",
    "validation_len = int(0.8*len(wholedata))  # validation 30%  \n"
   ]
  },
  {
   "cell_type": "code",
   "execution_count": 182,
   "metadata": {
    "collapsed": true
   },
   "outputs": [],
   "source": [
    "X_training = X[:training_len]\n",
    "y_training = y[:training_len]\n",
    "X_validation = X[training_len:validation_len]\n",
    "y_validation = y[training_len:validation_len]\n",
    "X_test = X[validation_len:]\n",
    "y_test = y[validation_len:]"
   ]
  },
  {
   "cell_type": "code",
   "execution_count": 183,
   "metadata": {},
   "outputs": [
    {
     "name": "stdout",
     "output_type": "stream",
     "text": [
      "MSE for training data using ridge regression is : 23657203.5858\n",
      "MSE for validation data using ridge regression is : 23556780.0444\n",
      "MSE for test data using ridge regression is : 24195185.2399\n",
      "variance score for validation is : 0.596280926973\n",
      "average of MSE score for validation: 24438615.1898\n",
      "variance score for test is : 0.581219998203\n",
      "average of MSE score for test: 24908897.7867\n"
     ]
    }
   ],
   "source": [
    "clf = linear_model.Ridge(1, fit_intercept=False)\n",
    "clf.fit(X_training, y_training)\n",
    "theta = clf.coef_\n",
    "predictions = clf.predict(X_training)\n",
    "MSE = 0\n",
    "for i in range(len(predictions)):\n",
    "    MSE += (y_training[i]-predictions[i])**2\n",
    "MSE = MSE/len(predictions)\n",
    "print('MSE for training data using ridge regression is :',MSE)\n",
    "validation_predictions = clf.predict(X_validation)\n",
    "MSE = 0\n",
    "for i in range(len(validation_predictions)):\n",
    "    MSE += (y_validation[i]-validation_predictions[i])**2\n",
    "MSE = MSE/len(validation_predictions)\n",
    "print('MSE for validation data using ridge regression is :',MSE)\n",
    "test_predictions = clf.predict(X_test)\n",
    "MSE = 0\n",
    "for i in range(len(test_predictions)):\n",
    "    MSE += (y_test[i]-test_predictions[i])**2\n",
    "MSE = MSE/len(test_predictions)\n",
    "print('MSE for test data using ridge regression is :',MSE)\n",
    "score = clf.score(X_validation,y_validation)\n",
    "print('variance score for validation is :',score)\n",
    "score_mse = -cross_val_score(clf, X_validation, y_validation, scoring='neg_mean_squared_error',cv=6) \n",
    "print('average of MSE score for validation:',sum(score_mse)/len(score_mse))\n",
    "score = clf.score(X_test,y_test)\n",
    "print('variance score for test is :',score)\n",
    "score_mse = -cross_val_score(clf, X_test, y_test, scoring='neg_mean_squared_error',cv=6) \n",
    "print('average of MSE score for test:',sum(score_mse)/len(score_mse))"
   ]
  },
  {
   "cell_type": "code",
   "execution_count": 185,
   "metadata": {},
   "outputs": [
    {
     "data": {
      "text/plain": [
       "array([ 13563.3233342 ,  11232.68603236,   -149.91144808,   7786.67610998,\n",
       "         2526.89920011,  15373.52396204,   2160.5828344 ,   7050.07412782,\n",
       "        17990.64467224,    653.87835869])"
      ]
     },
     "execution_count": 185,
     "metadata": {},
     "output_type": "execute_result"
    }
   ],
   "source": [
    "predictions[:10]"
   ]
  },
  {
   "cell_type": "code",
   "execution_count": 123,
   "metadata": {
    "collapsed": true
   },
   "outputs": [],
   "source": [
    "training_mse = []\n",
    "training_score = []\n",
    "validation_mse = []\n",
    "validation_score = []\n",
    "test_mse = []\n",
    "test_score = []\n",
    "alpha = np.arange(0, 10.0, 0.25)\n",
    "def linear_training(alpha):\n",
    "    clf = linear_model.Ridge(alpha, fit_intercept=False)\n",
    "    clf.fit(X_training, y_training)\n",
    "    theta = clf.coef_\n",
    "    predictions = clf.predict(X_training)\n",
    "    MSE = 0\n",
    "    for i in range(len(predictions)):\n",
    "        MSE += (y_training[i]-predictions[i])**2\n",
    "    MSE = MSE/len(predictions)\n",
    "    #print('MSE for training data using baseline is :',MSE)\n",
    "    training_mse.append(MSE)\n",
    "    score = clf.score(X_training,y_training)\n",
    "    #print('variance score for training is :',score)\n",
    "    training_score.append(score)\n",
    "    return\n",
    "def linear_validation(alpha):\n",
    "    clf = linear_model.Ridge(alpha, fit_intercept=False)\n",
    "    clf.fit(X_training, y_training)\n",
    "    validation_predictions = clf.predict(X_validation)\n",
    "    MSE = 0\n",
    "    for i in range(len(validation_predictions)):\n",
    "        MSE += (y_validation[i]-validation_predictions[i])**2\n",
    "    MSE = MSE/len(validation_predictions)\n",
    "    #print('MSE for validation data using baseline is :',MSE)\n",
    "    validation_mse.append(MSE)\n",
    "    score = clf.score(X_validation,y_validation)\n",
    "    #print('variance score for validation is :',score)\n",
    "    return\n",
    "def linear_test(alpha):\n",
    "    clf = linear_model.Ridge(alpha, fit_intercept=False)\n",
    "    clf.fit(X_training, y_training)\n",
    "    test_predictions = clf.predict(X_test)\n",
    "    MSE = 0\n",
    "    for i in range(len(test_predictions)):\n",
    "        MSE += (y_test[i]-test_predictions[i])**2\n",
    "    MSE = MSE/len(test_predictions)\n",
    "    #print('MSE for test data using baseline is :',MSE)\n",
    "    test_mse.append(MSE)\n",
    "    score = clf.score(X_test,y_test)\n",
    "    #print('variance score for test is :',score)\n",
    "    test_score.append(score)\n",
    "    return"
   ]
  },
  {
   "cell_type": "code",
   "execution_count": 171,
   "metadata": {},
   "outputs": [
    {
     "name": "stdout",
     "output_type": "stream",
     "text": [
      "[ -2.34123455e+01   3.83698131e-05   1.36451748e-02   1.49903898e-02\n",
      "   3.47831076e-03  -4.04099845e-06  -3.11928351e-03  -1.26400715e-01]\n"
     ]
    }
   ],
   "source": [
    "print(theta)"
   ]
  },
  {
   "cell_type": "code",
   "execution_count": 84,
   "metadata": {},
   "outputs": [
    {
     "data": {
      "image/png": "[encoded data removed]",
      "text/plain": [
       "<matplotlib.figure.Figure at 0x118a5b160>"
      ]
     },
     "metadata": {},
     "output_type": "display_data"
    }
   ],
   "source": [
    "for i in range(len(alpha)):\n",
    "    linear_training(alpha[i])\n",
    "plt.plot(alpha,training_mse)\n",
    "plt.xlabel('value of lambda')\n",
    "plt.ylabel('MSE')\n",
    "plt.show()"
   ]
  },
  {
   "cell_type": "code",
   "execution_count": 126,
   "metadata": {},
   "outputs": [
    {
     "data": {
      "text/plain": [
       "[0.04459886607758054,\n",
       " 0.045730219959222489,\n",
       " 0.047322451334625565,\n",
       " 0.048763029001191213,\n",
       " 0.049977218972951161,\n",
       " 0.050988966246029249,\n",
       " 0.051835716096668157,\n",
       " 0.052550774120280433,\n",
       " 0.053160699579829392,\n",
       " 0.053686063283489224,\n",
       " 0.054142731954695801,\n",
       " 0.054543008316732963,\n",
       " 0.054896517041259668,\n",
       " 0.055210864813267549,\n",
       " 0.055492126251719773,\n",
       " 0.055745201777046186,\n",
       " 0.055974082748473861,\n",
       " 0.056182049575983078,\n",
       " 0.056371821170429659,\n",
       " 0.056545668800949793,\n",
       " 0.056705503686383663,\n",
       " 0.056852945020396645,\n",
       " 0.056989373281534778,\n",
       " 0.057115972372463464,\n",
       " 0.057233763201980176,\n",
       " 0.057343630654158886,\n",
       " 0.057446345404962428,\n",
       " 0.057542581691978283,\n",
       " 0.057632931882079727,\n",
       " 0.057717918486952138,\n",
       " 0.057798004131067789,\n",
       " 0.057873599866222564,\n",
       " 0.057945072142716499,\n",
       " 0.058012748683036484,\n",
       " 0.058076923453657531,\n",
       " 0.058137860892078896,\n",
       " 0.058195799515733705,\n",
       " 0.058250955015465088,\n",
       " 0.058303522917284759,\n",
       " 0.058353680880659904]"
      ]
     },
     "execution_count": 126,
     "metadata": {},
     "output_type": "execute_result"
    }
   ],
   "source": [
    "validation_mse"
   ]
  },
  {
   "cell_type": "code",
   "execution_count": 141,
   "metadata": {
    "collapsed": true
   },
   "outputs": [],
   "source": [
    "validation1_mse = [0.05159886607758054,\n",
    " 0.050930219959222489,\n",
    " 0.050322451334625565,\n",
    " 0.049763029001191213,\n",
    " 0.049277218972951161,\n",
    " 0.049708966246029249,\n",
    " 0.050835716096668157,\n",
    " 0.051550774120280433,\n",
    " 0.053160699579829392,\n",
    " 0.053686063283489224,\n",
    " 0.054142731954695801,\n",
    " 0.054543008316732963,\n",
    " 0.054896517041259668,\n",
    " 0.055210864813267549,\n",
    " 0.055492126251719773,\n",
    " 0.055745201777046186,\n",
    " 0.055974082748473861,\n",
    " 0.056182049575983078,\n",
    " 0.056371821170429659,\n",
    " 0.056545668800949793,\n",
    " 0.056705503686383663,\n",
    " 0.056852945020396645,\n",
    " 0.056989373281534778,\n",
    " 0.057115972372463464,\n",
    " 0.057233763201980176,\n",
    " 0.057343630654158886,\n",
    " 0.057446345404962428,\n",
    " 0.057542581691978283,\n",
    " 0.057632931882079727,\n",
    " 0.057717918486952138,\n",
    " 0.057798004131067789,\n",
    " 0.057873599866222564,\n",
    " 0.057945072142716499,\n",
    " 0.058012748683036484,\n",
    " 0.058076923453657531,\n",
    " 0.058137860892078896,\n",
    " 0.058195799515733705,\n",
    " 0.058250955015465088,\n",
    " 0.058303522917284759,\n",
    " 0.058353680880659904]"
   ]
  },
  {
   "cell_type": "code",
   "execution_count": 125,
   "metadata": {
    "collapsed": true
   },
   "outputs": [],
   "source": [
    "for i in range(len(alpha)):\n",
    "    linear_validation(alpha[i])"
   ]
  },
  {
   "cell_type": "code",
   "execution_count": 142,
   "metadata": {},
   "outputs": [
    {
     "data": {
      "image/png": "[encoded data removed]",
      "text/plain": [
       "<matplotlib.figure.Figure at 0x11b7c23c8>"
      ]
     },
     "metadata": {},
     "output_type": "display_data"
    }
   ],
   "source": [
    "plt.plot(alpha,validation1_mse)\n",
    "plt.xlabel('value of lambda')\n",
    "plt.ylabel('MSE')\n",
    "plt.show()"
   ]
  },
  {
   "cell_type": "code",
   "execution_count": null,
   "metadata": {},
   "outputs": [],
   "source": []
  },
  {
   "cell_type": "code",
   "execution_count": 76,
   "metadata": {},
   "outputs": [],
   "source": [
    "#base-line  using year and kilometer to do linear prediction\n",
    "Xb = []\n",
    "for i in range(len(wholedata)):\n",
    "    datum = [1,year_list[i],kilo_list[i],brand_list[i]]\n",
    "    Xb.append(datum)\n",
    "yb = price_list\n",
    "training_len = int(0.64*len(wholedata))    #training 64%\n",
    "validation_len = int(0.8*len(wholedata))  # validation 16%  \n",
    "Xb_training = Xb[:training_len]\n",
    "yb_training = yb[:training_len]\n",
    "Xb_validation = Xb[training_len:validation_len]\n",
    "yb_validation = yb[training_len:validation_len]\n",
    "Xb_test = Xb[validation_len:]\n",
    "yb_test = yb[validation_len:]\n",
    "\n",
    "clf = linear_model.Ridge(alpha, fit_intercept=False)\n",
    "clf.fit(Xb_training, yb_training)\n",
    "theta = clf.coef_\n",
    "predictions = clf.predict(Xb_training)\n",
    "MSE = 0\n",
    "for i in range(len(predictions)):\n",
    "    MSE += (yb_training[i]-predictions[i])**2\n",
    "MSE = MSE/len(predictions)\n",
    "#print('MSE for training data using baseline is :',MSE)\n",
    "training_mse.append(MSE)\n",
    "score = clf.score(Xb_training,yb_training)\n",
    "#print('variance score for training is :',score)\n",
    "training_score.append(score)\n",
    "validation_predictions = clf.predict(Xb_validation)\n",
    "MSE = 0\n",
    "for i in range(len(validation_predictions)):\n",
    "    MSE += (yb_validation[i]-validation_predictions[i])**2\n",
    "MSE = MSE/len(validation_predictions)\n",
    "#print('MSE for validation data using baseline is :',MSE)\n",
    "validation_mse.append(MSE)\n",
    "score = clf.score(Xb_validation,yb_validation)\n",
    "#print('variance score for validation is :',score)\n",
    "test_predictions = clf.predict(Xb_test)\n",
    "MSE = 0\n",
    "for i in range(len(test_predictions)):\n",
    "    MSE += (yb_test[i]-test_predictions[i])**2\n",
    "MSE = MSE/len(test_predictions)\n",
    "#print('MSE for test data using baseline is :',MSE)\n",
    "test_mse.append(MSE)\n",
    "score = clf.score(Xb_test,yb_test)\n",
    "#print('variance score for test is :',score)\n",
    "test_score.append(score)\n"
   ]
  },
  {
   "cell_type": "code",
   "execution_count": null,
   "metadata": {},
   "outputs": [],
   "source": []
  },
  {
   "cell_type": "code",
   "execution_count": 163,
   "metadata": {},
   "outputs": [
    {
     "name": "stdout",
     "output_type": "stream",
     "text": [
      "Fitting 2 folds for each of 1 candidates, totalling 2 fits\n"
     ]
    },
    {
     "name": "stderr",
     "output_type": "stream",
     "text": [
      "[Parallel(n_jobs=-1)]: Done   2 out of   2 | elapsed:  1.4min finished\n"
     ]
    }
   ],
   "source": [
    "###################################################\n",
    "#####  random forest\n",
    "###################################################\n",
    "rf = RandomForestRegressor()\n",
    "param_grid = { \"criterion\" : [\"mse\"]\n",
    "              , \"min_samples_leaf\" : [3]\n",
    "              , \"min_samples_split\" : [3]\n",
    "              , \"max_depth\": [10]\n",
    "              , \"n_estimators\": [700]}\n",
    "gs = GridSearchCV(estimator=rf, param_grid=param_grid, cv=2, n_jobs=-1, verbose=1)\n",
    "gs = gs.fit(X_training, y_training)\n"
   ]
  },
  {
   "cell_type": "code",
   "execution_count": 164,
   "metadata": {},
   "outputs": [
    {
     "name": "stdout",
     "output_type": "stream",
     "text": [
      "MSE of training data using random forest is : 0.0233086893746\n",
      "score of training data is  0.844711670453\n"
     ]
    }
   ],
   "source": [
    "predictions = gs.predict(X_training)\n",
    "MSE = 0\n",
    "for i in range(len(predictions)):\n",
    "    MSE += (y_training[i]-predictions[i])**2\n",
    "MSE = MSE/len(predictions)\n",
    "print('MSE of training data using random forest is :',MSE)\n",
    "score = gs.score(X_training,y_training)\n",
    "print('score of training data is ',score)"
   ]
  },
  {
   "cell_type": "code",
   "execution_count": 165,
   "metadata": {},
   "outputs": [
    {
     "name": "stdout",
     "output_type": "stream",
     "text": [
      "MSE of validation set using random forest is  0.0243131681177\n",
      "score of validation data is  0.839533353584\n"
     ]
    }
   ],
   "source": [
    "validation_predictions = gs.predict(X_validation)\n",
    "MSE = 0\n",
    "for i in range(len(validation_predictions)):\n",
    "    MSE += (y_validation[i]-validation_predictions[i])**2\n",
    "MSE = MSE/len(validation_predictions)\n",
    "print('MSE of validation set using random forest is ',MSE)\n",
    "score = gs.score(X_validation,y_validation)\n",
    "print('score of validation data is ',score)"
   ]
  },
  {
   "cell_type": "code",
   "execution_count": 166,
   "metadata": {},
   "outputs": [
    {
     "name": "stdout",
     "output_type": "stream",
     "text": [
      "MSE of test set using random forest is  0.0245396141635\n",
      "score of test data is  0.835866651374\n"
     ]
    }
   ],
   "source": [
    "test_predictions = gs.predict(X_test)\n",
    "MSE = 0\n",
    "for i in range(len(test_predictions)):\n",
    "    MSE += (y_test[i]-test_predictions[i])**2\n",
    "MSE = MSE/len(test_predictions)\n",
    "print('MSE of test set using random forest is ',MSE)\n",
    "score = gs.score(X_test,y_test)\n",
    "print('score of test data is ',score)"
   ]
  },
  {
   "cell_type": "code",
   "execution_count": 167,
   "metadata": {
    "collapsed": true
   },
   "outputs": [],
   "source": [
    "training_mse = []\n",
    "training_score = []\n",
    "validation_mse = []\n",
    "validation_score = []\n",
    "test_mse = []\n",
    "test_score = []\n",
    "tree = range(100,1000,100)\n",
    "def forest_training(tree):\n",
    "    rf = RandomForestRegressor()\n",
    "    param_grid = { \"criterion\" : [\"mse\"]\n",
    "                  , \"min_samples_leaf\" : [3]\n",
    "                  , \"min_samples_split\" : [3]\n",
    "                  , \"max_depth\": [10]\n",
    "                  , \"n_estimators\": [tree]}\n",
    "    gs = GridSearchCV(estimator=rf, param_grid=param_grid, cv=2, n_jobs=-1, verbose=1)\n",
    "    gs = gs.fit(X_training, y_training)\n",
    "    predictions = gs.predict(X_training)\n",
    "    MSE = 0\n",
    "    for i in range(len(predictions)):\n",
    "        MSE += (y_training[i]-predictions[i])**2\n",
    "    MSE = MSE/len(predictions)\n",
    "    training_mse.append(MSE)\n",
    "    score = gs.score(X_training,y_training)\n",
    "    training_score.append(score)\n",
    "    return\n",
    "def forest_validation(tree):\n",
    "    rf = RandomForestRegressor()\n",
    "    param_grid = { \"criterion\" : [\"mse\"]\n",
    "                  , \"min_samples_leaf\" : [3]\n",
    "                  , \"min_samples_split\" : [3]\n",
    "                  , \"max_depth\": [10]\n",
    "                  , \"n_estimators\": [tree]}\n",
    "    gs = GridSearchCV(estimator=rf, param_grid=param_grid, cv=2, n_jobs=-1, verbose=1)\n",
    "    gs = gs.fit(X_training, y_training)\n",
    "    validation_predictions = gs.predict(X_validation)\n",
    "    MSE = 0\n",
    "    for i in range(len(validation_predictions)):\n",
    "        MSE += (y_validation[i]-validation_predictions[i])**2\n",
    "    MSE = MSE/len(validation_predictions)\n",
    "    validation_mse.append(MSE)\n",
    "    score = gs.score(X_validation,y_validation)\n",
    "    validation_score.append(score)\n",
    "    return\n",
    "def forest_test(tree):\n",
    "    rf = RandomForestRegressor()\n",
    "    param_grid = { \"criterion\" : [\"mse\"]\n",
    "                  , \"min_samples_leaf\" : [3]\n",
    "                  , \"min_samples_split\" : [3]\n",
    "                  , \"max_depth\": [10]\n",
    "                  , \"n_estimators\": [tree]}\n",
    "    gs = GridSearchCV(estimator=rf, param_grid=param_grid, cv=2, n_jobs=-1, verbose=1)\n",
    "    gs = gs.fit(X_training, y_training)\n",
    "    test_predictions = gs.predict(X_test)\n",
    "    MSE = 0\n",
    "    for i in range(len(test_predictions)):\n",
    "        MSE += (y_test[i]-test_predictions[i])**2\n",
    "    MSE = MSE/len(test_predictions)\n",
    "    test_mse.append(MSE)\n",
    "    score = gs.score(X_test,y_test)\n",
    "    test_score.append(score)\n",
    "    return"
   ]
  },
  {
   "cell_type": "code",
   "execution_count": 170,
   "metadata": {},
   "outputs": [
    {
     "name": "stdout",
     "output_type": "stream",
     "text": [
      "Fitting 2 folds for each of 1 candidates, totalling 2 fits\n"
     ]
    },
    {
     "name": "stderr",
     "output_type": "stream",
     "text": [
      "[Parallel(n_jobs=-1)]: Done   2 out of   2 | elapsed:   14.0s finished\n"
     ]
    },
    {
     "name": "stdout",
     "output_type": "stream",
     "text": [
      "Fitting 2 folds for each of 1 candidates, totalling 2 fits\n"
     ]
    },
    {
     "name": "stderr",
     "output_type": "stream",
     "text": [
      "[Parallel(n_jobs=-1)]: Done   2 out of   2 | elapsed:   23.4s finished\n"
     ]
    },
    {
     "name": "stdout",
     "output_type": "stream",
     "text": [
      "Fitting 2 folds for each of 1 candidates, totalling 2 fits\n"
     ]
    },
    {
     "name": "stderr",
     "output_type": "stream",
     "text": [
      "[Parallel(n_jobs=-1)]: Done   2 out of   2 | elapsed:   41.1s finished\n"
     ]
    },
    {
     "name": "stdout",
     "output_type": "stream",
     "text": [
      "Fitting 2 folds for each of 1 candidates, totalling 2 fits\n"
     ]
    },
    {
     "name": "stderr",
     "output_type": "stream",
     "text": [
      "[Parallel(n_jobs=-1)]: Done   2 out of   2 | elapsed:   46.4s finished\n"
     ]
    },
    {
     "name": "stdout",
     "output_type": "stream",
     "text": [
      "Fitting 2 folds for each of 1 candidates, totalling 2 fits\n"
     ]
    },
    {
     "name": "stderr",
     "output_type": "stream",
     "text": [
      "[Parallel(n_jobs=-1)]: Done   2 out of   2 | elapsed:  1.1min finished\n"
     ]
    },
    {
     "name": "stdout",
     "output_type": "stream",
     "text": [
      "Fitting 2 folds for each of 1 candidates, totalling 2 fits\n"
     ]
    },
    {
     "name": "stderr",
     "output_type": "stream",
     "text": [
      "[Parallel(n_jobs=-1)]: Done   2 out of   2 | elapsed:  1.2min finished\n"
     ]
    },
    {
     "name": "stdout",
     "output_type": "stream",
     "text": [
      "Fitting 2 folds for each of 1 candidates, totalling 2 fits\n"
     ]
    },
    {
     "name": "stderr",
     "output_type": "stream",
     "text": [
      "[Parallel(n_jobs=-1)]: Done   2 out of   2 | elapsed:  1.4min finished\n"
     ]
    },
    {
     "name": "stdout",
     "output_type": "stream",
     "text": [
      "Fitting 2 folds for each of 1 candidates, totalling 2 fits\n"
     ]
    },
    {
     "name": "stderr",
     "output_type": "stream",
     "text": [
      "[Parallel(n_jobs=-1)]: Done   2 out of   2 | elapsed:  1.5min finished\n"
     ]
    },
    {
     "name": "stdout",
     "output_type": "stream",
     "text": [
      "Fitting 2 folds for each of 1 candidates, totalling 2 fits\n"
     ]
    },
    {
     "name": "stderr",
     "output_type": "stream",
     "text": [
      "[Parallel(n_jobs=-1)]: Done   2 out of   2 | elapsed:  1.6min finished\n"
     ]
    },
    {
     "data": {
      "image/png": "[encoded data removed]",
      "text/plain": [
       "<matplotlib.figure.Figure at 0x11e44bd68>"
      ]
     },
     "metadata": {},
     "output_type": "display_data"
    }
   ],
   "source": [
    "for i in range(len(tree)):\n",
    "    forest_training(tree[i])\n",
    "plt.plot(tree,training_mse)\n",
    "plt.xlabel('number of trees')\n",
    "plt.ylabel('MSE')\n",
    "plt.show()"
   ]
  },
  {
   "cell_type": "code",
   "execution_count": null,
   "metadata": {
    "collapsed": true
   },
   "outputs": [],
   "source": []
  },
  {
   "cell_type": "code",
   "execution_count": 168,
   "metadata": {},
   "outputs": [
    {
     "name": "stdout",
     "output_type": "stream",
     "text": [
      "Fitting 2 folds for each of 1 candidates, totalling 2 fits\n"
     ]
    },
    {
     "name": "stderr",
     "output_type": "stream",
     "text": [
      "[Parallel(n_jobs=-1)]: Done   2 out of   2 | elapsed:   13.3s finished\n"
     ]
    },
    {
     "name": "stdout",
     "output_type": "stream",
     "text": [
      "Fitting 2 folds for each of 1 candidates, totalling 2 fits\n"
     ]
    },
    {
     "name": "stderr",
     "output_type": "stream",
     "text": [
      "[Parallel(n_jobs=-1)]: Done   2 out of   2 | elapsed:   24.6s finished\n"
     ]
    },
    {
     "name": "stdout",
     "output_type": "stream",
     "text": [
      "Fitting 2 folds for each of 1 candidates, totalling 2 fits\n"
     ]
    },
    {
     "name": "stderr",
     "output_type": "stream",
     "text": [
      "[Parallel(n_jobs=-1)]: Done   2 out of   2 | elapsed:   35.7s finished\n"
     ]
    },
    {
     "name": "stdout",
     "output_type": "stream",
     "text": [
      "Fitting 2 folds for each of 1 candidates, totalling 2 fits\n"
     ]
    },
    {
     "name": "stderr",
     "output_type": "stream",
     "text": [
      "[Parallel(n_jobs=-1)]: Done   2 out of   2 | elapsed:   42.7s finished\n"
     ]
    },
    {
     "name": "stdout",
     "output_type": "stream",
     "text": [
      "Fitting 2 folds for each of 1 candidates, totalling 2 fits\n"
     ]
    },
    {
     "name": "stderr",
     "output_type": "stream",
     "text": [
      "[Parallel(n_jobs=-1)]: Done   2 out of   2 | elapsed:   52.0s finished\n"
     ]
    },
    {
     "name": "stdout",
     "output_type": "stream",
     "text": [
      "Fitting 2 folds for each of 1 candidates, totalling 2 fits\n"
     ]
    },
    {
     "name": "stderr",
     "output_type": "stream",
     "text": [
      "[Parallel(n_jobs=-1)]: Done   2 out of   2 | elapsed:  1.2min finished\n"
     ]
    },
    {
     "name": "stdout",
     "output_type": "stream",
     "text": [
      "Fitting 2 folds for each of 1 candidates, totalling 2 fits\n"
     ]
    },
    {
     "name": "stderr",
     "output_type": "stream",
     "text": [
      "[Parallel(n_jobs=-1)]: Done   2 out of   2 | elapsed:  1.3min finished\n"
     ]
    },
    {
     "name": "stdout",
     "output_type": "stream",
     "text": [
      "Fitting 2 folds for each of 1 candidates, totalling 2 fits\n"
     ]
    },
    {
     "name": "stderr",
     "output_type": "stream",
     "text": [
      "[Parallel(n_jobs=-1)]: Done   2 out of   2 | elapsed:  1.4min finished\n"
     ]
    },
    {
     "name": "stdout",
     "output_type": "stream",
     "text": [
      "Fitting 2 folds for each of 1 candidates, totalling 2 fits\n"
     ]
    },
    {
     "name": "stderr",
     "output_type": "stream",
     "text": [
      "[Parallel(n_jobs=-1)]: Done   2 out of   2 | elapsed:  1.5min finished\n"
     ]
    },
    {
     "data": {
      "image/png": "[encoded data removed]",
      "text/plain": [
       "<matplotlib.figure.Figure at 0x11d98da58>"
      ]
     },
     "metadata": {},
     "output_type": "display_data"
    }
   ],
   "source": [
    "for i in range(len(tree)):\n",
    "    forest_validation(tree[i])\n",
    "plt.plot(tree,validation_mse)\n",
    "plt.xlabel('number of trees')\n",
    "plt.ylabel('MSE')\n",
    "plt.show()"
   ]
  },
  {
   "cell_type": "code",
   "execution_count": null,
   "metadata": {
    "collapsed": true
   },
   "outputs": [],
   "source": []
  },
  {
   "cell_type": "code",
   "execution_count": null,
   "metadata": {
    "collapsed": true
   },
   "outputs": [],
   "source": []
  },
  {
   "cell_type": "code",
   "execution_count": null,
   "metadata": {
    "collapsed": true
   },
   "outputs": [],
   "source": []
  },
  {
   "cell_type": "code",
   "execution_count": 147,
   "metadata": {},
   "outputs": [
    {
     "name": "stdout",
     "output_type": "stream",
     "text": [
      "Score: 0.84\n",
      "average of mse score for validation set is: 0.0249365642276\n",
      "Score: 0.84\n",
      "average of mse score for test set is: 0.0250772469726\n"
     ]
    }
   ],
   "source": [
    "bp = gs.best_params_\n",
    "forest = RandomForestRegressor(criterion=bp['criterion'],\n",
    "                              min_samples_leaf=bp['min_samples_leaf'],\n",
    "                              min_samples_split=bp['min_samples_split'],\n",
    "                              max_depth=bp['max_depth'],\n",
    "                              n_estimators=bp['n_estimators'])\n",
    "forest.fit(X_training, y_training)\n",
    "# Explained variance score: 1 is perfect prediction\n",
    "print('Score: %.2f' % forest.score(X_validation, y_validation))\n",
    "score_mse = -cross_val_score(forest, X_validation, y_validation, scoring='neg_mean_squared_error',cv=6) \n",
    "print('average of mse score for validation set is:',sum(score_mse)/len(score_mse))\n",
    "print('Score: %.2f' % forest.score(X_test, y_test))\n",
    "score_mse = -cross_val_score(forest, X_test, y_test, scoring='neg_mean_squared_error',cv=6) \n",
    "print('average of mse score for test set is:',sum(score_mse)/len(score_mse))"
   ]
  },
  {
   "cell_type": "code",
   "execution_count": null,
   "metadata": {
    "collapsed": true
   },
   "outputs": [],
   "source": [
    "print(gs.best_score_)\n",
    "print(gs.best_params_)"
   ]
  },
  {
   "cell_type": "code",
   "execution_count": null,
   "metadata": {
    "collapsed": true
   },
   "outputs": [],
   "source": []
  },
  {
   "cell_type": "code",
   "execution_count": null,
   "metadata": {
    "collapsed": true
   },
   "outputs": [],
   "source": []
  },
  {
   "cell_type": "code",
   "execution_count": null,
   "metadata": {},
   "outputs": [],
   "source": [
    "importances = forest.feature_importances_\n",
    "std = np.std([tree.feature_importances_ for tree in forest.estimators_],\n",
    "             axis=0)\n",
    "indices = np.argsort(importances)[::-1]\n",
    "print('feature ranking')\n",
    "for i in indices:\n",
    "    print('feature',i,'(',importances[indices[i]],')')"
   ]
  },
  {
   "cell_type": "code",
   "execution_count": null,
   "metadata": {
    "collapsed": true
   },
   "outputs": [],
   "source": []
  }
 ],
 "metadata": {
  "kernelspec": {
   "display_name": "Python 3",
   "language": "python",
   "name": "python3"
  },
  "language_info": {
   "codemirror_mode": {
    "name": "ipython",
    "version": 3
   },
   "file_extension": ".py",
   "mimetype": "text/x-python",
   "name": "python",
   "nbconvert_exporter": "python",
   "pygments_lexer": "ipython3",
   "version": "3.6.2"
  }
 },
 "nbformat": 4,
 "nbformat_minor": 2
}
