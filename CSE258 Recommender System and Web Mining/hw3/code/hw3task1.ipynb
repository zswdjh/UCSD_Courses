{
 "cells": [
  {
   "cell_type": "code",
   "execution_count": 1,
   "metadata": {
    "collapsed": true
   },
   "outputs": [],
   "source": [
    "import gzip\n",
    "from collections import defaultdict\n",
    "\n",
    "def readGz(f):\n",
    "    for l in gzip.open(f):\n",
    "        yield eval(l)"
   ]
  },
  {
   "cell_type": "code",
   "execution_count": 2,
   "metadata": {},
   "outputs": [
    {
     "name": "stdout",
     "output_type": "stream",
     "text": [
      "reading data...\n",
      "done\n"
     ]
    }
   ],
   "source": [
    "print('reading data...')\n",
    "data = list(readGz('train.json.gz'))\n",
    "print('done')"
   ]
  },
  {
   "cell_type": "code",
   "execution_count": 4,
   "metadata": {
    "collapsed": true
   },
   "outputs": [],
   "source": [
    "#problem1\n",
    "import itertools\n",
    "import random\n",
    "known_ub_pair = [(d['userID'],d['businessID']) for d in data]  #get known user,business pair from original 200,000 training data\n",
    "known_user = [d['userID'] for d in data]\n",
    "known_business = [d['businessID'] for d in data]\n",
    "known_user = list(set(known_user))\n",
    "known_business = list(set(known_business))\n",
    "\n"
   ]
  },
  {
   "cell_type": "code",
   "execution_count": 5,
   "metadata": {
    "collapsed": true
   },
   "outputs": [],
   "source": [
    "count = 0\n",
    "count_total = 100000\n",
    "while True:\n",
    "    index_u = random.randint(0,len(known_user)-1)\n",
    "    index_b = random.randint(0,len(known_business)-1)\n",
    "    sample = (known_user[index_u],known_business[index_b])\n",
    "    if sample not in known_ub_pair:\n",
    "        validation.append(sample)\n",
    "        count += 1\n",
    "    if count == count_total:\n",
    "        break\n"
   ]
  },
  {
   "cell_type": "code",
   "execution_count": 6,
   "metadata": {},
   "outputs": [
    {
     "name": "stdout",
     "output_type": "stream",
     "text": [
      "accuracy of the baseline model on the validation set is 62.6075  % \n"
     ]
    }
   ],
   "source": [
    "#calculate accuracy of the baseline model on the validation set\n",
    "y=[1]*100000+[0]*100000\n",
    "businessCount = defaultdict(int)\n",
    "totalPurchases = 0\n",
    "for i in training:\n",
    "    user,business = i[0],i[1]\n",
    "    businessCount[business] += 1\n",
    "    totalPurchases += 1\n",
    "mostPopular = [(businessCount[x],x) for x in businessCount]\n",
    "mostPopular.sort()\n",
    "mostPopular.reverse()\n",
    "return1 = set() #contain the business ID for the top 50% purchase\n",
    "count = 0\n",
    "for ic,i in mostPopular:\n",
    "    count += ic\n",
    "    return1.add(i)\n",
    "    if count>totalPurchases/2:break\n",
    "prediction = []\n",
    "for i in range(len(validation)):\n",
    "    if validation[i][1] in return1:\n",
    "        prediction.append(1)\n",
    "    else:\n",
    "        prediction.append(0)\n",
    "correct = [(a == b) for a,b in zip(y,prediction)]\n",
    "accuracy = sum(correct)/len(correct)\n",
    "print('accuracy of the baseline model on the validation set is',accuracy*100,' % ')"
   ]
  },
  {
   "cell_type": "code",
   "execution_count": 12,
   "metadata": {},
   "outputs": [
    {
     "name": "stdout",
     "output_type": "stream",
     "text": [
      "accuracy of the baseline model on the validation set is 62.924  % \n"
     ]
    }
   ],
   "source": [
    "#problem 2\n",
    "return2 = set() #contain the business ID for the top 58% \n",
    "count = 0\n",
    "for ic,i in mostPopular:\n",
    "    count += ic\n",
    "    return2.add(i)\n",
    "    if count>totalPurchases*5.8/10:break\n",
    "prediction2 = []\n",
    "for i in range(len(validation)):\n",
    "    if validation[i][1] in return2:\n",
    "        prediction2.append(1)\n",
    "    else:\n",
    "        prediction2.append(0)\n",
    "correct = [(a == b) for a,b in zip(y,prediction2)]\n",
    "accuracy = sum(correct)/len(correct)\n",
    "print('accuracy of the baseline model on the validation set is',accuracy*100,' % ')"
   ]
  },
  {
   "cell_type": "code",
   "execution_count": 28,
   "metadata": {
    "collapsed": true
   },
   "outputs": [],
   "source": [
    "#problem 3\n",
    "training=data[:int(len(data)/2)]\n",
    "userCat = defaultdict(list)\n",
    "for u in known_user:\n",
    "    cat = [d['categories'] for d in training if d['userID'] == u]\n",
    "    combine_cat = [j for i in cat for j in i]  \n",
    "    for i in combine_cat:\n",
    "        userCat[u].append(i)\n",
    "#userCat contain userID:[category]"
   ]
  },
  {
   "cell_type": "code",
   "execution_count": 32,
   "metadata": {
    "collapsed": true
   },
   "outputs": [],
   "source": [
    "busiCat = defaultdict(list)\n",
    "for b in known_business:\n",
    "    cat = [d['categories'] for d in training if d['businessID'] == b]\n",
    "    combine_cat = [j for i in cat for j in i]\n",
    "    for i in combine_cat:\n",
    "        busiCat[b].append(i)"
   ]
  },
  {
   "cell_type": "code",
   "execution_count": 37,
   "metadata": {
    "collapsed": true
   },
   "outputs": [],
   "source": [
    "predictions = open(\"visit_prediction_p4.txt\", 'w')\n",
    "for l in open(\"pairs_Visit.txt\"):\n",
    "    if l.startswith(\"userID\"):\n",
    "        predictions.write(l)\n",
    "        continue\n",
    "    u,i = l.strip().split('-')\n",
    "    if i not in known_business:\n",
    "        predictions.write(u + '-' + i + ',' + '0\\n')\n",
    "    elif u in known_user:\n",
    "        predictions.write(u + '-' + i + ',' + '1\\n')\n",
    "    else:\n",
    "        if i in return2:\n",
    "            predictions.write(u + '-' + i + ',' + '1\\n')\n",
    "        else:\n",
    "            predictions.write(u + '-' + i + ',' + '0\\n')\n",
    "predictions.close()"
   ]
  },
  {
   "cell_type": "code",
   "execution_count": null,
   "metadata": {
    "collapsed": true
   },
   "outputs": [],
   "source": []
  },
  {
   "cell_type": "code",
   "execution_count": null,
   "metadata": {
    "collapsed": true
   },
   "outputs": [],
   "source": []
  },
  {
   "cell_type": "code",
   "execution_count": null,
   "metadata": {
    "collapsed": true
   },
   "outputs": [],
   "source": []
  }
 ],
 "metadata": {
  "kernelspec": {
   "display_name": "Python 3",
   "language": "python",
   "name": "python3"
  },
  "language_info": {
   "codemirror_mode": {
    "name": "ipython",
    "version": 3
   },
   "file_extension": ".py",
   "mimetype": "text/x-python",
   "name": "python",
   "nbconvert_exporter": "python",
   "pygments_lexer": "ipython3",
   "version": "3.6.2"
  }
 },
 "nbformat": 4,
 "nbformat_minor": 2
}
