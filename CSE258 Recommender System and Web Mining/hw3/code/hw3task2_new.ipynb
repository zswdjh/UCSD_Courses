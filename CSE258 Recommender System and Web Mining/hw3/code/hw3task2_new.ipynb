{
 "cells": [
  {
   "cell_type": "code",
   "execution_count": 51,
   "metadata": {},
   "outputs": [
    {
     "name": "stdout",
     "output_type": "stream",
     "text": [
      "reading data...\n",
      "done\n"
     ]
    }
   ],
   "source": [
    "import gzip\n",
    "from collections import defaultdict\n",
    "def readGz(f):\n",
    "    for l in gzip.open(f):\n",
    "        yield eval(l)\n",
    "print('reading data...')\n",
    "data = list(readGz('train.json.gz'))\n",
    "print('done')"
   ]
  },
  {
   "cell_type": "code",
   "execution_count": 18,
   "metadata": {},
   "outputs": [],
   "source": [
    "#problem 5\n",
    "known_user_tr = [d['userID'] for d in data[:int(len(simplify_data)/2)]]\n",
    "known_user_tr = list(set(known_user_tr))"
   ]
  },
  {
   "cell_type": "code",
   "execution_count": 76,
   "metadata": {},
   "outputs": [
    {
     "name": "stdout",
     "output_type": "stream",
     "text": [
      "the globalaverage is  4.18703\n",
      "the MSE is  0.7163571192872857\n"
     ]
    }
   ],
   "source": [
    "simplify_data = [(d['userID'],d['businessID'],d['rating']) for d in data]\n",
    "training_data = simplify_data[:int(len(simplify_data)/2)]\n",
    "validation_data = simplify_data[int(len(simplify_data)/2):]\n",
    "\n",
    "allRatings = []\n",
    "userRating = defaultdict(list)\n",
    "for i in training_data:\n",
    "    allRatings.append(i[2])\n",
    "    userRating[i[0]].append(i[2])\n",
    "globalAverage = sum(allRatings)/len(allRatings)\n",
    "userAverage = {}\n",
    "for u in userRating:\n",
    "    userAverage[u] = sum(userRating[u])/len(userRating[u])\n",
    "MSE = 0\n",
    "for d in validation_data:\n",
    "    if d[0] in known_user_tr:\n",
    "        MSE += (d[2]-userAverage[d[0]])**2\n",
    "    else:\n",
    "        MSE += (d[2]-globalAverage)**2\n",
    "print('the globalaverage is ',globalAverage)\n",
    "print('the MSE is ',MSE/len(validation_data))"
   ]
  },
  {
   "cell_type": "code",
   "execution_count": 142,
   "metadata": {},
   "outputs": [
    {
     "name": "stdout",
     "output_type": "stream",
     "text": [
      "global busines rating is  4.18703\n"
     ]
    }
   ],
   "source": [
    "b_allRating = []\n",
    "bRating = defaultdict(list)\n",
    "for i in training_data:\n",
    "    b_allRating.append(i[2])\n",
    "    bRating[i[1]].append(i[2])\n",
    "b_globalAverage = sum(b_allRating)/len(b_allRating)\n",
    "b_average = {}\n",
    "for b in bRating:\n",
    "    b_average[b] = sum(bRating[b])/len(bRating[b])\n",
    "print('global busines rating is ',b_globalAverage)"
   ]
  },
  {
   "cell_type": "code",
   "execution_count": 158,
   "metadata": {},
   "outputs": [],
   "source": [
    "#problem 6\n",
    "from random import randint\n",
    "simplify_data = [(d['userID'],d['businessID'],d['rating']) for d in data]\n",
    "training_data = simplify_data[:int(len(simplify_data)/2)]\n",
    "user_iden = [d[0] for d in training_data]\n",
    "user_iden = list(set(user_iden))\n",
    "business_iden = [d[1] for d in training_data]\n",
    "business_iden = list(set(business_iden))\n",
    "u_b_r = defaultdict(float)\n",
    "user_business = defaultdict(list)\n",
    "business_user = defaultdict(list)\n",
    "for (u,b,r) in training_data:\n",
    "    u_b_r[(u,b)] = r\n",
    "    user_business[u].append(b)\n",
    "    business_user[b].append(u)\n",
    "for u in user_business:\n",
    "    user_business[u] = list(set(user_business[u]))\n",
    "for b in business_user:\n",
    "    business_user[b] = list(set(business_user[b]))\n",
    "beta_user = defaultdict(float)\n",
    "beta_business = defaultdict(float)\n",
    "alpha = randint(30,50)/10    \n",
    "for u in user_iden:\n",
    "    beta_user[u] = randint(-20,20)/100\n",
    "for b in business_iden:\n",
    "    beta_business[b] = randint(-20,20)/100\n",
    "lam =1\n",
    "\n",
    "    \n",
    "    \n",
    "    "
   ]
  },
  {
   "cell_type": "code",
   "execution_count": 168,
   "metadata": {},
   "outputs": [],
   "source": [
    "#---------update------------------- \n",
    "SE_old = 0\n",
    "SE_new = 3\n",
    "while(abs(SE_new-SE_old)>0.001):\n",
    "    sum_alpha = 0\n",
    "    for d in training_data:\n",
    "        sum_alpha += u_b_r[(d[0],d[1])]-(beta_user[d[0]]+beta_business[d[1]])\n",
    "    alpha = sum_alpha/len(training_data)\n",
    "    \n",
    "    for u in user_iden:\n",
    "        update_beta_user = 0\n",
    "        for b in user_business[u]:\n",
    "            update_beta_user += (u_b_r[(u,b)]-(alpha+beta_business[b]))/(lam+len(user_business[u]))\n",
    "        beta_user[u] = update_beta_user\n",
    "    \n",
    "    for b in business_iden:\n",
    "        update_beta_business = 0\n",
    "        for u in business_user[b]:\n",
    "            update_beta_business += (u_b_r[(u,b)]-(alpha+beta_user[u]))/(lam+len(business_user[b]))\n",
    "        beta_business[b] = update_beta_business\n",
    "    SE = 0\n",
    "    for i in training_data:\n",
    "        SE +=(alpha+beta_user[i[0]]+beta_business[i[1]]-u_b_r[(i[0],i[1])])**2\n",
    "    #print( ' SE = ',SE)\n",
    "    SE_old = SE_new\n",
    "    SE_new = SE\n",
    "    \n",
    "    "
   ]
  },
  {
   "cell_type": "code",
   "execution_count": 160,
   "metadata": {},
   "outputs": [
    {
     "name": "stdout",
     "output_type": "stream",
     "text": [
      "MSE for validation set is:  16.899844257640158\n"
     ]
    }
   ],
   "source": [
    "MSE = 0\n",
    "for (u,b,r) in validation_data:\n",
    "    if u in user_iden:\n",
    "        if b in business_iden:\n",
    "            MSE += (alpha+beta_user[u]+beta_business[b]-u_b_r[(u,b)])**2\n",
    "        else:\n",
    "            MSE += (alpha+beta_user[u]-userAverage[u])**2\n",
    "    else:\n",
    "        if b in business_iden:\n",
    "            MSE += (alpha+beta_business[b]-b_average[b])**2\n",
    "        else:\n",
    "            MSE += (alpha-globalAverage)**2\n",
    "print('MSE for validation set is: ',MSE/len(validation_data))  \n",
    "    "
   ]
  },
  {
   "cell_type": "code",
   "execution_count": 161,
   "metadata": {},
   "outputs": [
    {
     "name": "stdout",
     "output_type": "stream",
     "text": [
      "userID with largest value of beta is  ('U357799541', 1.163195073560459)\n",
      "userID with smallest value of beta is  ('U417838537', -2.8340258769043882)\n",
      "businessID with largest value of beta is  ('B093985406', 1.169733638163109)\n",
      "businessID with smallest value of beta is ('B241777680', -2.2339837734013415)\n"
     ]
    }
   ],
   "source": [
    "#problem7 \n",
    "from operator import itemgetter\n",
    "b_beta_user=sorted(beta_user.items(),key=itemgetter(1),reverse = True)\n",
    "print('userID with largest value of beta is ',b_beta_user[0])\n",
    "s_beta_user=sorted(beta_user.items(),key=itemgetter(1))\n",
    "print('userID with smallest value of beta is ',s_beta_user[0])\n",
    "b_beta_business = sorted(beta_business.items(),key = itemgetter(1), reverse = True)\n",
    "print('businessID with largest value of beta is ',b_beta_business[0])\n",
    "s_beta_business = sorted(beta_business.items(),key = itemgetter(1))\n",
    "print('businessID with smallest value of beta is',s_beta_business[0])"
   ]
  },
  {
   "cell_type": "code",
   "execution_count": 149,
   "metadata": {},
   "outputs": [],
   "source": [
    "#####problem 8\n",
    "from random import randint\n",
    "simplify_data = [(d['userID'],d['businessID'],d['rating']) for d in data]\n",
    "training_data = simplify_data[:int(len(simplify_data)/2)]\n",
    "user_iden = [d[0] for d in training_data]\n",
    "user_iden = list(set(user_iden))\n",
    "business_iden = [d[1] for d in training_data]\n",
    "business_iden = list(set(business_iden))\n",
    "u_b_r = defaultdict(float)\n",
    "user_business = defaultdict(list)\n",
    "business_user = defaultdict(list)\n",
    "for (u,b,r) in training_data:\n",
    "    u_b_r[(u,b)] = r\n",
    "    user_business[u].append(b)\n",
    "    business_user[b].append(u)\n",
    "for u in user_business:\n",
    "    user_business[u] = list(set(user_business[u]))\n",
    "for b in business_user:\n",
    "    business_user[b] = list(set(business_user[b]))\n",
    "beta_user = defaultdict(float)\n",
    "beta_business = defaultdict(float)\n",
    "\n"
   ]
  },
  {
   "cell_type": "code",
   "execution_count": 166,
   "metadata": {},
   "outputs": [
    {
     "name": "stdout",
     "output_type": "stream",
     "text": [
      "MSE for validation set is:  16.7210142504965\n"
     ]
    }
   ],
   "source": [
    "alpha = randint(30,50)/10    \n",
    "for u in user_iden:\n",
    "    beta_user[u] = randint(-20,20)/100\n",
    "for b in business_iden:\n",
    "    beta_business[b] = randint(-20,20)/100\n",
    "lam =7\n",
    "#---------update------------------- \n",
    "SE_old = 0\n",
    "SE_new = 3\n",
    "while(abs(SE_new-SE_old)>0.001):\n",
    "    sum_alpha = 0\n",
    "    for d in training_data:\n",
    "        sum_alpha += u_b_r[(d[0],d[1])]-(beta_user[d[0]]+beta_business[d[1]])\n",
    "    alpha = sum_alpha/len(training_data)\n",
    "    \n",
    "    for u in user_iden:\n",
    "        update_beta_user = 0\n",
    "        for b in user_business[u]:\n",
    "            update_beta_user += (u_b_r[(u,b)]-(alpha+beta_business[b]))/(lam+len(user_business[u]))\n",
    "        beta_user[u] = update_beta_user\n",
    "    \n",
    "    for b in business_iden:\n",
    "        update_beta_business = 0\n",
    "        for u in business_user[b]:\n",
    "            update_beta_business += (u_b_r[(u,b)]-(alpha+beta_user[u]))/(lam+len(business_user[b]))\n",
    "        beta_business[b] = update_beta_business\n",
    "    SE = 0\n",
    "    for i in training_data:\n",
    "        SE +=(alpha+beta_user[i[0]]+beta_business[i[1]]-u_b_r[(i[0],i[1])])**2\n",
    "    \n",
    "    SE_old = SE_new\n",
    "    SE_new = SE\n",
    "MSE = 0\n",
    "for (u,b,r) in validation_data:\n",
    "    if u in user_iden:\n",
    "        if b in business_iden:\n",
    "            MSE += (alpha+beta_user[u]+beta_business[b]-u_b_r[(u,b)])**2\n",
    "        else:\n",
    "            MSE += (alpha+beta_user[u]-userAverage[u])**2\n",
    "    else:\n",
    "        if b in business_iden:\n",
    "            MSE += (alpha+beta_business[b]-b_average[b])**2\n",
    "        else:\n",
    "            MSE += (alpha-globalAverage)**2\n",
    "print('MSE for validation set is: ',MSE/len(validation_data))  "
   ]
  },
  {
   "cell_type": "code",
   "execution_count": 167,
   "metadata": {
    "collapsed": true
   },
   "outputs": [],
   "source": [
    "predictions = open('prediction_Rating_q8.txt','w')\n",
    "for l in open('pairs_Rating.txt'):\n",
    "    if l.startswith('userID'):\n",
    "        predictions.write(l)\n",
    "        continue\n",
    "    u,i = l.strip().split('-')\n",
    "    if u in user_iden:\n",
    "        if b in business_iden:\n",
    "            rating = alpha+beta_user[u]+beta_user[b]\n",
    "            predictions.write(u+'-'+i+','+str(rating)+'\\n')\n",
    "        else:\n",
    "            rating = alpha+beta_user[u]\n",
    "            predictions.write(u+'-'+i+','+str(rating)+'\\n')\n",
    "    else:\n",
    "        if b in business_iden:\n",
    "            rating = alpha+beta_business[b]\n",
    "            predictions.write(u+'-'+i+','+str(rating)+'\\n')\n",
    "        else:\n",
    "            rating = alpha\n",
    "            predictions.write(u+'-'+i+','+str(rating)+'\\n')\n",
    "predictions.close()\n",
    "        "
   ]
  },
  {
   "cell_type": "code",
   "execution_count": null,
   "metadata": {
    "collapsed": true
   },
   "outputs": [],
   "source": []
  },
  {
   "cell_type": "code",
   "execution_count": null,
   "metadata": {
    "collapsed": true
   },
   "outputs": [],
   "source": [
    "lambda = 2, MSE for validation set is:  16.828786437541\n",
    "3   MSE for validation set is:  16.78888991765602\n",
    "4 MSE for validation set is:  16.76329734951937\n",
    "5    16.745203724742005\n",
    "7 MSE for validation set is:  16.7210142504965"
   ]
  },
  {
   "cell_type": "code",
   "execution_count": null,
   "metadata": {
    "collapsed": true
   },
   "outputs": [],
   "source": []
  },
  {
   "cell_type": "code",
   "execution_count": null,
   "metadata": {
    "collapsed": true
   },
   "outputs": [],
   "source": []
  },
  {
   "cell_type": "code",
   "execution_count": null,
   "metadata": {
    "collapsed": true
   },
   "outputs": [],
   "source": [
    "MSE = 0\n",
    "for (u,b,r) in validation_data:\n",
    "    if u in user_iden:\n",
    "        if b in business_iden:\n",
    "            MSE += (alpha+beta_user[u]+beta_business[b]-u_b_r[(u,b)])**2\n",
    "        else:\n",
    "            MSE += (alpha+beta_user[u]-userAverage[u])**2\n",
    "    else:\n",
    "        if b in business_iden:\n",
    "            MSE += (alpha+beta_business[b]-b_average[b])**2\n",
    "        else:\n",
    "            MSE += (alpha-globalAverage)**2\n",
    "print('MSE for validation set is: ',MSE/len(validation_data))  \n",
    "    "
   ]
  },
  {
   "cell_type": "code",
   "execution_count": null,
   "metadata": {
    "collapsed": true
   },
   "outputs": [],
   "source": []
  },
  {
   "cell_type": "code",
   "execution_count": null,
   "metadata": {
    "collapsed": true
   },
   "outputs": [],
   "source": []
  },
  {
   "cell_type": "code",
   "execution_count": null,
   "metadata": {
    "collapsed": true
   },
   "outputs": [],
   "source": []
  },
  {
   "cell_type": "code",
   "execution_count": null,
   "metadata": {
    "collapsed": true
   },
   "outputs": [],
   "source": []
  },
  {
   "cell_type": "code",
   "execution_count": null,
   "metadata": {
    "collapsed": true
   },
   "outputs": [],
   "source": [
    "#MSE on validation set\n",
    "MSE = 0\n",
    "for (u,b,r) in validation_data:\n",
    "    if u in user_iden and b in business_iden:\n",
    "        MSE += (alpha+beta_user[u]+beta_business[b]-u_b_r[(u,b)])**2\n",
    "    if u in user_iden and b not in business_iden:\n",
    "        MSE += (alpha+beta_user[u]-userAverage[u])**2\n",
    "    if u not in user_iden and b in business_iden:\n",
    "        MSE += (alpha+beta_business[b]-globalAverage)**2\n",
    "    if u not in user_iden and b not in business_iden:\n",
    "        MSE += (alpha-globalAverage)**2\n",
    "print('MSE for validation set is: ',MSE/len(validation_data))  \n",
    "    "
   ]
  },
  {
   "cell_type": "code",
   "execution_count": 87,
   "metadata": {},
   "outputs": [
    {
     "name": "stdout",
     "output_type": "stream",
     "text": [
      "4.223856747195829\n",
      "MSE =  0.330111174768646\n"
     ]
    }
   ],
   "source": [
    "sum_alpha = 0\n",
    "for d in training_data:\n",
    "    sum_alpha += u_b_r[(d[0],d[1])]-(beta_user[d[0]]+beta_business[d[1]])\n",
    "alpha = sum_alpha/len(training_data)\n",
    "print(alpha)\n",
    "\n",
    "\n",
    "for u in user_iden:\n",
    "    update_beta_user = 0\n",
    "    for b in user_business[u]:\n",
    "        update_beta_user += (u_b_r[(u,b)]-(alpha+beta_business[b]))/(lam+len(user_business[u]))\n",
    "    beta_user[u] = update_beta_user\n",
    "    \n",
    "\n",
    "for b in business_iden:\n",
    "    update_beta_business = 0\n",
    "    for u in business_user[b]:\n",
    "        update_beta_business += (u_b_r[(u,b)]-(alpha+beta_user[u]))/(lam+len(business_user[b]))\n",
    "    beta_business[b] = update_beta_business\n",
    "\n",
    "SE = 0\n",
    "for i in training_data:\n",
    "    SE +=(alpha+beta_user[i[0]]+beta_business[i[1]]-u_b_r[(i[0],i[1])])**2\n",
    "print('MSE = ',SE/len(training_data))"
   ]
  },
  {
   "cell_type": "code",
   "execution_count": null,
   "metadata": {
    "collapsed": true
   },
   "outputs": [],
   "source": []
  }
 ],
 "metadata": {
  "kernelspec": {
   "display_name": "Python 3",
   "language": "python",
   "name": "python3"
  },
  "language_info": {
   "codemirror_mode": {
    "name": "ipython",
    "version": 3
   },
   "file_extension": ".py",
   "mimetype": "text/x-python",
   "name": "python",
   "nbconvert_exporter": "python",
   "pygments_lexer": "ipython3",
   "version": "3.6.2"
  }
 },
 "nbformat": 4,
 "nbformat_minor": 2
}
