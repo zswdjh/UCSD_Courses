{
 "cells": [
  {
   "cell_type": "code",
   "execution_count": 8,
   "metadata": {
    "collapsed": true
   },
   "outputs": [],
   "source": [
    "import numpy as np\n",
    "import urllib.request\n",
    "import scipy.optimize\n",
    "import random\n",
    "from collections import Counter"
   ]
  },
  {
   "cell_type": "code",
   "execution_count": 9,
   "metadata": {},
   "outputs": [
    {
     "name": "stdout",
     "output_type": "stream",
     "text": [
      "Reading data...\n",
      "done!\n"
     ]
    }
   ],
   "source": [
    "def parseData(fname):\n",
    "    for l in urllib.request.urlopen(fname):\n",
    "        yield eval(l)\n",
    "print (\"Reading data...\")\n",
    "data=list(parseData(\"http://jmcauley.ucsd.edu/cse190/data/beer/beer_50000.json\"))\n",
    "print (\"done!\")"
   ]
  },
  {
   "cell_type": "code",
   "execution_count": 11,
   "metadata": {
    "collapsed": true
   },
   "outputs": [],
   "source": [
    "def feature(datum):\n",
    "    feat=[1]\n",
    "    return feat"
   ]
  },
  {
   "cell_type": "code",
   "execution_count": 5,
   "metadata": {
    "collapsed": true
   },
   "outputs": [],
   "source": [
    "#problem1 \n",
    "def ave_taste(i):\n",
    "    t=[]\n",
    "    for d in data:\n",
    "        if d['beer/style']==i:\n",
    "            t.append(d['review/taste'])\n",
    "    average_for_i=sum(t)/len(t)\n",
    "    average_taste_all.append(average_for_i)\n",
    "    \n",
    "    \n"
   ]
  },
  {
   "cell_type": "code",
   "execution_count": 7,
   "metadata": {
    "scrolled": true
   },
   "outputs": [
    {
     "name": "stdout",
     "output_type": "stream",
     "text": [
      "There are  95 different kinds of beers. \n",
      "The specific type and its corresponding number of reviews and average value of 'review/taste' are showed below: \n",
      "[('Hefeweizen', 618, 3.635113268608414), ('English Strong Ale', 164, 3.7560975609756095), ('Foreign / Export Stout', 55, 3.2545454545454544), ('German Pilsener', 586, 3.667235494880546), ('American Double / Imperial IPA', 3886, 4.033324755532681), ('Herbed / Spiced Beer', 73, 3.4452054794520546), ('Oatmeal Stout', 102, 3.7745098039215685), ('American Pale Lager', 123, 3.2154471544715446), ('Rauchbier', 1938, 4.067853457172343), ('American Pale Ale (APA)', 2288, 3.649694055944056), ('American Porter', 2230, 4.081838565022421), ('Belgian Strong Dark Ale', 146, 3.6952054794520546), ('Russian Imperial Stout', 2695, 4.300371057513915), ('American Amber / Red Ale', 665, 3.513533834586466), ('American Strong Ale', 166, 3.569277108433735), ('MÃ¤rzen / Oktoberfest', 557, 3.5933572710951527), ('American Adjunct Lager', 242, 2.9483471074380163), ('American Blonde Ale', 357, 3.2549019607843137), ('American IPA', 4113, 4.00085096036956), ('Fruit / Vegetable Beer', 1355, 3.607749077490775), ('English Bitter', 267, 3.5374531835205993), ('English Porter', 367, 3.70708446866485), ('Irish Dry Stout', 101, 3.623762376237624), ('American Barleywine', 825, 4.064242424242424), ('American Double / Imperial Stout', 5964, 4.479963112005366), ('Doppelbock', 873, 3.9828178694158076), ('American Stout', 591, 3.8197969543147208), ('Maibock / Helles Bock', 225, 3.7466666666666666), ('Dortmunder / Export Lager', 31, 3.4193548387096775), ('Euro Strong Lager', 329, 2.8480243161094223), ('Low Alcohol Beer', 7, 2.7142857142857144), ('Light Lager', 503, 2.39662027833002), ('Euro Pale Lager', 701, 2.962910128388017), ('Bock', 148, 3.189189189189189), ('English India Pale Ale (IPA)', 175, 3.4714285714285715), ('Altbier', 165, 3.403030303030303), ('KÃ¶lsch', 94, 3.6968085106382977), ('Pumpkin Ale', 560, 3.7875), ('Rye Beer', 1798, 4.213570634037819), ('American Pale Wheat Ale', 154, 3.3344155844155843), ('Milk / Sweet Stout', 69, 3.782608695652174), ('Schwarzbier', 53, 3.6226415094339623), ('Munich Dunkel Lager', 141, 3.780141843971631), ('Vienna Lager', 33, 3.5303030303030303), ('American Amber / Red Lager', 42, 3.6904761904761907), ('Scottish Ale', 78, 3.7628205128205128), ('Witbier', 162, 3.5277777777777777), ('Saison / Farmhouse Ale', 141, 3.702127659574468), ('American Black Ale', 138, 3.8731884057971016), ('English Brown Ale', 495, 3.728282828282828), ('English Barleywine', 133, 4.360902255639098), ('Extra Special / Strong Bitter (ESB)', 667, 3.685157421289355), ('California Common / Steam Beer', 11, 3.3181818181818183), ('Euro Dark Lager', 144, 3.704861111111111), ('Scotch Ale / Wee Heavy', 2776, 4.083393371757925), ('English Pale Ale', 1324, 3.483761329305136), ('Belgian Strong Pale Ale', 632, 4.056170886075949), ('Belgian Pale Ale', 144, 3.7395833333333335), ('Tripel', 257, 3.7840466926070038), ('Flanders Oud Bruin', 13, 3.923076923076923), ('American Brown Ale', 314, 3.7436305732484074), ('Smoked Beer', 61, 3.19672131147541), ('Dunkelweizen', 61, 3.4918032786885247), ('Dubbel', 165, 3.7363636363636363), ('Keller Bier / Zwickel Bier', 23, 3.869565217391304), ('Winter Warmer', 259, 3.6216216216216215), ('BiÃ¨re de Garde', 7, 3.9285714285714284), ('Belgian Dark Ale', 175, 3.34), ('Irish Red Ale', 83, 2.9819277108433737), ('Chile Beer', 11, 3.9545454545454546), ('English Stout', 136, 3.599264705882353), ('Czech Pilsener', 1501, 3.609593604263824), ('Belgian IPA', 128, 3.94921875), ('Black & Tan', 122, 3.942622950819672), ('Cream Ale', 69, 3.028985507246377), ('English Dark Mild Ale', 21, 3.7857142857142856), ('American Wild Ale', 98, 4.188775510204081), ('Weizenbock', 13, 3.3846153846153846), ('American Double / Imperial Pilsner', 14, 3.8214285714285716), ('Scottish Gruit / Ancient Herbed Ale', 65, 3.9076923076923076), ('Wheatwine', 455, 4.186813186813187), ('American Dark Wheat Ale', 14, 3.6785714285714284), ('American Malt Liquor', 90, 2.2555555555555555), ('Munich Helles Lager', 650, 3.959230769230769), ('Kristalweizen', 7, 2.7857142857142856), ('English Pale Mild Ale', 21, 3.5952380952380953), ('Baltic Porter', 514, 4.213035019455253), ('Old Ale', 1052, 4.096007604562738), ('Quadrupel (Quad)', 119, 3.596638655462185), ('Braggot', 26, 3.8076923076923075), ('Lambic - Fruit', 6, 3.75), ('Lambic - Unblended', 10, 3.3), ('Eisbock', 8, 3.75), ('Flanders Red Ale', 2, 3.25), ('Berliner Weissbier', 10, 3.55)]\n"
     ]
    }
   ],
   "source": [
    "beer_review=[d['beer/style'] for d in data]\n",
    "beer_type=Counter(beer_review).keys()\n",
    "beer_type_list=list(beer_type)\n",
    "beer_freq=Counter(beer_review).values()\n",
    "average_taste_all=[]\n",
    "for i in beer_type_list:\n",
    "    ave_taste(i)\n",
    "beer_final=list(zip(beer_type,beer_freq,average_taste_all))\n",
    "print(\"There are \",len(beer_type),\"different kinds of beers. \")\n",
    "print(\"The specific type and its corresponding number of reviews and average value of 'review/taste' are showed below: \")\n",
    "print(beer_final)\n",
    "    \n",
    "    \n"
   ]
  },
  {
   "cell_type": "code",
   "execution_count": 13,
   "metadata": {},
   "outputs": [
    {
     "data": {
      "text/plain": [
       "[('Hefeweizen', 618, 3.635113268608414),\n",
       " ('English Strong Ale', 164, 3.7560975609756095),\n",
       " ('Foreign / Export Stout', 55, 3.2545454545454544),\n",
       " ('German Pilsener', 586, 3.667235494880546),\n",
       " ('American Double / Imperial IPA', 3886, 4.033324755532681),\n",
       " ('Herbed / Spiced Beer', 73, 3.4452054794520546),\n",
       " ('Oatmeal Stout', 102, 3.7745098039215685),\n",
       " ('American Pale Lager', 123, 3.2154471544715446),\n",
       " ('Rauchbier', 1938, 4.067853457172343),\n",
       " ('American Pale Ale (APA)', 2288, 3.649694055944056),\n",
       " ('American Porter', 2230, 4.081838565022421),\n",
       " ('Belgian Strong Dark Ale', 146, 3.6952054794520546),\n",
       " ('Russian Imperial Stout', 2695, 4.300371057513915),\n",
       " ('American Amber / Red Ale', 665, 3.513533834586466),\n",
       " ('American Strong Ale', 166, 3.569277108433735),\n",
       " ('MÃ¤rzen / Oktoberfest', 557, 3.5933572710951527),\n",
       " ('American Adjunct Lager', 242, 2.9483471074380163),\n",
       " ('American Blonde Ale', 357, 3.2549019607843137),\n",
       " ('American IPA', 4113, 4.00085096036956),\n",
       " ('Fruit / Vegetable Beer', 1355, 3.607749077490775),\n",
       " ('English Bitter', 267, 3.5374531835205993),\n",
       " ('English Porter', 367, 3.70708446866485),\n",
       " ('Irish Dry Stout', 101, 3.623762376237624),\n",
       " ('American Barleywine', 825, 4.064242424242424),\n",
       " ('American Double / Imperial Stout', 5964, 4.479963112005366),\n",
       " ('Doppelbock', 873, 3.9828178694158076),\n",
       " ('American Stout', 591, 3.8197969543147208),\n",
       " ('Maibock / Helles Bock', 225, 3.7466666666666666),\n",
       " ('Dortmunder / Export Lager', 31, 3.4193548387096775),\n",
       " ('Euro Strong Lager', 329, 2.8480243161094223),\n",
       " ('Low Alcohol Beer', 7, 2.7142857142857144),\n",
       " ('Light Lager', 503, 2.39662027833002),\n",
       " ('Euro Pale Lager', 701, 2.962910128388017),\n",
       " ('Bock', 148, 3.189189189189189),\n",
       " ('English India Pale Ale (IPA)', 175, 3.4714285714285715),\n",
       " ('Altbier', 165, 3.403030303030303),\n",
       " ('KÃ¶lsch', 94, 3.6968085106382977),\n",
       " ('Pumpkin Ale', 560, 3.7875),\n",
       " ('Rye Beer', 1798, 4.213570634037819),\n",
       " ('American Pale Wheat Ale', 154, 3.3344155844155843),\n",
       " ('Milk / Sweet Stout', 69, 3.782608695652174),\n",
       " ('Schwarzbier', 53, 3.6226415094339623),\n",
       " ('Munich Dunkel Lager', 141, 3.780141843971631),\n",
       " ('Vienna Lager', 33, 3.5303030303030303),\n",
       " ('American Amber / Red Lager', 42, 3.6904761904761907),\n",
       " ('Scottish Ale', 78, 3.7628205128205128),\n",
       " ('Witbier', 162, 3.5277777777777777),\n",
       " ('Saison / Farmhouse Ale', 141, 3.702127659574468),\n",
       " ('American Black Ale', 138, 3.8731884057971016),\n",
       " ('English Brown Ale', 495, 3.728282828282828),\n",
       " ('English Barleywine', 133, 4.360902255639098),\n",
       " ('Extra Special / Strong Bitter (ESB)', 667, 3.685157421289355),\n",
       " ('California Common / Steam Beer', 11, 3.3181818181818183),\n",
       " ('Euro Dark Lager', 144, 3.704861111111111),\n",
       " ('Scotch Ale / Wee Heavy', 2776, 4.083393371757925),\n",
       " ('English Pale Ale', 1324, 3.483761329305136),\n",
       " ('Belgian Strong Pale Ale', 632, 4.056170886075949),\n",
       " ('Belgian Pale Ale', 144, 3.7395833333333335),\n",
       " ('Tripel', 257, 3.7840466926070038),\n",
       " ('Flanders Oud Bruin', 13, 3.923076923076923),\n",
       " ('American Brown Ale', 314, 3.7436305732484074),\n",
       " ('Smoked Beer', 61, 3.19672131147541),\n",
       " ('Dunkelweizen', 61, 3.4918032786885247),\n",
       " ('Dubbel', 165, 3.7363636363636363),\n",
       " ('Keller Bier / Zwickel Bier', 23, 3.869565217391304),\n",
       " ('Winter Warmer', 259, 3.6216216216216215),\n",
       " ('BiÃ¨re de Garde', 7, 3.9285714285714284),\n",
       " ('Belgian Dark Ale', 175, 3.34),\n",
       " ('Irish Red Ale', 83, 2.9819277108433737),\n",
       " ('Chile Beer', 11, 3.9545454545454546),\n",
       " ('English Stout', 136, 3.599264705882353),\n",
       " ('Czech Pilsener', 1501, 3.609593604263824),\n",
       " ('Belgian IPA', 128, 3.94921875),\n",
       " ('Black & Tan', 122, 3.942622950819672),\n",
       " ('Cream Ale', 69, 3.028985507246377),\n",
       " ('English Dark Mild Ale', 21, 3.7857142857142856),\n",
       " ('American Wild Ale', 98, 4.188775510204081),\n",
       " ('Weizenbock', 13, 3.3846153846153846),\n",
       " ('American Double / Imperial Pilsner', 14, 3.8214285714285716),\n",
       " ('Scottish Gruit / Ancient Herbed Ale', 65, 3.9076923076923076),\n",
       " ('Wheatwine', 455, 4.186813186813187),\n",
       " ('American Dark Wheat Ale', 14, 3.6785714285714284),\n",
       " ('American Malt Liquor', 90, 2.2555555555555555),\n",
       " ('Munich Helles Lager', 650, 3.959230769230769),\n",
       " ('Kristalweizen', 7, 2.7857142857142856),\n",
       " ('English Pale Mild Ale', 21, 3.5952380952380953),\n",
       " ('Baltic Porter', 514, 4.213035019455253),\n",
       " ('Old Ale', 1052, 4.096007604562738),\n",
       " ('Quadrupel (Quad)', 119, 3.596638655462185),\n",
       " ('Braggot', 26, 3.8076923076923075),\n",
       " ('Lambic - Fruit', 6, 3.75),\n",
       " ('Lambic - Unblended', 10, 3.3),\n",
       " ('Eisbock', 8, 3.75),\n",
       " ('Flanders Red Ale', 2, 3.25),\n",
       " ('Berliner Weissbier', 10, 3.55)]"
      ]
     },
     "execution_count": 13,
     "metadata": {},
     "output_type": "execute_result"
    }
   ],
   "source": [
    "beer_final"
   ]
  },
  {
   "cell_type": "code",
   "execution_count": 5,
   "metadata": {
    "collapsed": true
   },
   "outputs": [],
   "source": [
    "#problem2\n",
    "def feature(datum):\n",
    "    feat=[1]\n",
    "    if datum['beer/style']=='American IPA':\n",
    "        feat.append(1)\n",
    "    else:\n",
    "        feat.append(0)\n",
    "    return feat"
   ]
  },
  {
   "cell_type": "code",
   "execution_count": 6,
   "metadata": {},
   "outputs": [
    {
     "name": "stdout",
     "output_type": "stream",
     "text": [
      "review/taste =  3.91520474208 + 0.0856462182857 *[beer is an American IPA](1 if beer is American IPA,0 otherwise)\n",
      "theta0 = 3.91520474208  theta1 =  0.0856462182857\n",
      "[[1, 0], [1, 0], [1, 0], [1, 0], [1, 0], [1, 0], [1, 0], [1, 0], [1, 0], [1, 0]]\n"
     ]
    }
   ],
   "source": [
    "X=[feature(d) for d in data]\n",
    "y=[d['review/taste'] for d in data]\n",
    "theta,residuals,rank,s=np.linalg.lstsq(X,y)\n",
    "print(\"review/taste = \",theta[0],\"+\",theta[1],\"*[beer is an American IPA](1 if beer is American IPA,0 otherwise)\")\n",
    "print(\"theta0 =\",theta[0],\" theta1 = \",theta[1])\n",
    "print(X[:10])"
   ]
  },
  {
   "cell_type": "code",
   "execution_count": 10,
   "metadata": {},
   "outputs": [
    {
     "name": "stdout",
     "output_type": "stream",
     "text": [
      "For training set : \n",
      "review/taste =  3.90435639229 + 0.0560602743724 *[beer is an American IPA](1 if beer is American IPA,0 otherwise) \n",
      "theta0 = 3.90435639229  theta1 =  0.0560602743724\n",
      "MSE of training data =  0.558107286559\n",
      "MSE of test data =  0.468410050967\n"
     ]
    }
   ],
   "source": [
    "#problem3\n",
    "from sklearn.metrics import mean_squared_error\n",
    "data_train=data[:int(len(data)/2)]\n",
    "data_test=data[int(len(data)/2):]\n",
    "X=[feature(d) for d in data_train]\n",
    "y=[d['review/taste'] for d in data_train]\n",
    "theta,residuals,rank,s=np.linalg.lstsq(X,y)\n",
    "\n",
    "\n",
    "test_true=[d['review/taste'] for d in data_test]\n",
    "X1=[feature(d) for d in data_test]\n",
    "X1=np.matrix(X1)\n",
    "y=np.matrix([theta[0],theta[1]]).T\n",
    "test_predict=(X1*y).T\n",
    "test_predict=test_predict.tolist()[0]\n",
    "MSE_test=mean_squared_error(test_true,test_predict)\n",
    "\n",
    "\n",
    "print(\"For training set : \")\n",
    "print(\"review/taste = \",theta[0],\"+\",theta[1],\"*[beer is an American IPA](1 if beer is American IPA,0 otherwise) \")\n",
    "print(\"theta0 =\",theta[0],\" theta1 = \",theta[1])\n",
    "print(\"MSE of training data = \",residuals[0]/len(data_train))\n",
    "print(\"MSE of test data = \",MSE_test)\n"
   ]
  },
  {
   "cell_type": "code",
   "execution_count": 11,
   "metadata": {
    "collapsed": true
   },
   "outputs": [],
   "source": [
    "#problem4 \n",
    "def feature(d):\n",
    "    feat=[]\n",
    "    feat.append(1)\n",
    "    if d['beer/style'] not in extend_type:\n",
    "        for i in range(0,74):\n",
    "            feat.append(0)\n",
    "    else:\n",
    "        name=d['beer/style']\n",
    "        index=extend_type.index(name)\n",
    "        for i in range(0,index):\n",
    "            feat.append(0)\n",
    "        feat.append(1)\n",
    "        for i in range(0,73-index):\n",
    "            feat.append(0)\n",
    "    return feat"
   ]
  },
  {
   "cell_type": "code",
   "execution_count": 12,
   "metadata": {},
   "outputs": [
    {
     "name": "stdout",
     "output_type": "stream",
     "text": [
      "thetas for extended model are : \n",
      "[ 3.60681818 -0.0058248   0.12193999 -0.35681818 -0.62765152  0.33596789\n",
      " -0.38622995  0.1527972  -0.58598485  0.44318182  0.02739474  0.3305986\n",
      "  0.12651515  0.69564175 -0.11634199 -0.1798951  -0.22045455 -0.73802386\n",
      " -0.45410882  0.35359848  0.11320382 -0.02450111  0.09815076  0.22651515\n",
      "  0.45638407  0.8416167  -0.41285266  0.20312334 -0.10681818 -0.83277972\n",
      " -1.23390152 -0.92019846 -0.74318182 -0.13106061 -0.18884943  0.10049889\n",
      "  0.26709486  0.3763751  -0.17824675  0.71136364  0.12395105 -0.50681818\n",
      "  0.26818182 -0.09003966  0.20984848  0.19621212  0.03420746  0.76540404\n",
      "  0.14466111  0.11433566  0.48544372 -0.31931818  0.46842454  0.16385851\n",
      "  0.05895722  0.26761104 -0.4664673   0.25681818  0.13786267  0.01699134\n",
      " -0.27061129 -0.63806818 -0.10223103 -0.2937747   0.3449362   0.33580477\n",
      " -0.65227273  0.58195733  0.38356643  0.01818182 -1.00681818 -0.20681818\n",
      "  0.65508658  0.60472028  0.39318182]\n",
      "MSE of training data =  0.36784027709\n",
      "MSE of test data =  0.43366951042\n"
     ]
    }
   ],
   "source": [
    "#get the type of beer which has no less than 50 reviews\n",
    "from sklearn.metrics import mean_squared_error\n",
    "extend_type=[]\n",
    "for i in range(len(beer_final)):\n",
    "    if beer_final[i][1]>=50:\n",
    "        extend_type.append(beer_final[i][0])\n",
    "data_train=data[:int(len(data)/2)]\n",
    "data_test=data[int(len(data)/2):]\n",
    "#regression\n",
    "X=[feature(d) for d in data_train]\n",
    "y=[d['review/taste'] for d in data_train]\n",
    "theta,residuals,rank,s=np.linalg.lstsq(X,y)\n",
    "\n",
    "test_true=[d['review/taste'] for d in data_test]\n",
    "X1=[feature(d) for d in data_test]\n",
    "X1=np.matrix(X1)\n",
    "y=np.matrix(theta).T\n",
    "test_predict=(X1*y).T\n",
    "test_predict=test_predict.tolist()[0]\n",
    "MSE_test=mean_squared_error(test_true,test_predict)\n",
    "\n",
    "print(\"thetas for extended model are : \")\n",
    "print(theta)\n",
    "\n",
    "print(\"MSE of training data = \",residuals[0]/len(data_train))\n",
    "print(\"MSE of test data = \",MSE_test)\n",
    "\n",
    "\n",
    "\n",
    "\n",
    "\n",
    "\n",
    "\n"
   ]
  },
  {
   "cell_type": "code",
   "execution_count": null,
   "metadata": {
    "collapsed": true
   },
   "outputs": [],
   "source": []
  },
  {
   "cell_type": "code",
   "execution_count": null,
   "metadata": {
    "collapsed": true
   },
   "outputs": [],
   "source": []
  },
  {
   "cell_type": "code",
   "execution_count": null,
   "metadata": {
    "collapsed": true
   },
   "outputs": [],
   "source": []
  },
  {
   "cell_type": "code",
   "execution_count": null,
   "metadata": {
    "collapsed": true
   },
   "outputs": [],
   "source": []
  },
  {
   "cell_type": "code",
   "execution_count": null,
   "metadata": {
    "collapsed": true
   },
   "outputs": [],
   "source": []
  }
 ],
 "metadata": {
  "kernelspec": {
   "display_name": "Python 3",
   "language": "python",
   "name": "python3"
  },
  "language_info": {
   "codemirror_mode": {
    "name": "ipython",
    "version": 3
   },
   "file_extension": ".py",
   "mimetype": "text/x-python",
   "name": "python",
   "nbconvert_exporter": "python",
   "pygments_lexer": "ipython3",
   "version": "3.6.2"
  }
 },
 "nbformat": 4,
 "nbformat_minor": 2
}
