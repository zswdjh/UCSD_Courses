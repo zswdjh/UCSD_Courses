{
 "cells": [
  {
   "cell_type": "code",
   "execution_count": 1,
   "metadata": {},
   "outputs": [
    {
     "name": "stdout",
     "output_type": "stream",
     "text": [
      "Reading data...\n",
      "done\n"
     ]
    }
   ],
   "source": [
    "import numpy\n",
    "import urllib.request\n",
    "import scipy.optimize\n",
    "import random\n",
    "from math import exp\n",
    "from math import log\n",
    "\n",
    "def parseData(fname):\n",
    "    for l in urllib.request.urlopen(fname):\n",
    "        yield eval(l)\n",
    "\n",
    "print (\"Reading data...\")\n",
    "data=list(parseData(\"http://jmcauley.ucsd.edu/cse190/data/beer/beer_50000.json\"))\n",
    "print (\"done\")"
   ]
  },
  {
   "cell_type": "code",
   "execution_count": 2,
   "metadata": {
    "collapsed": true
   },
   "outputs": [],
   "source": [
    "def inner(x,y):\n",
    "    return sum([x[i]*y[i] for i in range(len(x))])\n",
    "\n",
    "def sigmoid(x):\n",
    "    return 1.0 / (1 + exp(-x))\n",
    "\n",
    "# NEGATIVE Log-likelihood\n",
    "def f(theta, X, y, lam):\n",
    "    loglikelihood = 0\n",
    "    for i in range(len(X)):\n",
    "        logit = inner(X[i], theta)\n",
    "        loglikelihood -= log(1 + exp(-logit))\n",
    "        if not y[i]:\n",
    "              loglikelihood -= logit\n",
    "    for k in range(len(theta)):\n",
    "        loglikelihood -= lam * theta[k]*theta[k]\n",
    "    print (\"ll =\", loglikelihood)\n",
    "    return -loglikelihood"
   ]
  },
  {
   "cell_type": "code",
   "execution_count": 3,
   "metadata": {
    "collapsed": true
   },
   "outputs": [],
   "source": [
    "# NEGATIVE Derivative of log-likelihood\n",
    "def fprime(theta, X, y, lam):\n",
    "    dl = [0.0]*len(theta)\n",
    "    sig=[]\n",
    "    for i in range(len(X)):\n",
    "        logit=inner(X[i],theta)\n",
    "        sig.append(1-sigmoid(logit))\n",
    "    X=numpy.matrix(X).T\n",
    "    sig=numpy.matrix(sig).T\n",
    "    y_opposite=[i*-1 for i in y]\n",
    "    ones=[1]*len(y)\n",
    "    y_flip=[sum(n) for n in zip(*[ones,y_opposite])]\n",
    "    y_flip=numpy.matrix(y_flip).T\n",
    "    theta=numpy.matrix(theta).T\n",
    "    final=X*(sig-y_flip)-2*lam*theta\n",
    "    dl=final.flatten().tolist()[0]\n",
    "    pass\n",
    "    \n",
    "    return numpy.array([-x for x in dl])\n"
   ]
  },
  {
   "cell_type": "code",
   "execution_count": 4,
   "metadata": {
    "collapsed": true
   },
   "outputs": [],
   "source": [
    "def feature(datum):\n",
    "    feat=[]\n",
    "    feat.append(1)\n",
    "    feat.append(datum['beer/ABV'])\n",
    "    feat.append(datum['review/taste'])\n",
    "    return feat\n",
    "X=[feature(d) for d in data]\n",
    "y=['American IPA' in d['beer/style'] for d in data]"
   ]
  },
  {
   "cell_type": "code",
   "execution_count": 5,
   "metadata": {
    "collapsed": true
   },
   "outputs": [],
   "source": [
    "X_train = X[:int(len(X)/2)]\n",
    "X_test = X[int(len(X)/2):]\n",
    "y_train=y[:int(len(y)/2)]\n",
    "y_test=y[int(len(y)/2):]"
   ]
  },
  {
   "cell_type": "code",
   "execution_count": 6,
   "metadata": {},
   "outputs": [
    {
     "name": "stdout",
     "output_type": "stream",
     "text": [
      "ll = -17328.679514\n",
      "ll = -16341.2013892\n",
      "ll = -13952.6362653\n",
      "ll = -6951.99741346\n",
      "ll = -7358.42557314\n",
      "ll = -6910.14444962\n",
      "ll = -6906.4039954\n",
      "ll = -6892.46364043\n",
      "ll = -6803.17967995\n",
      "ll = -6787.73594283\n",
      "ll = -6783.12927193\n",
      "ll = -6782.88180995\n",
      "ll = -6782.29658661\n",
      "ll = -6780.54303709\n",
      "ll = -6776.3875002\n",
      "ll = -6766.54731729\n",
      "ll = -6747.07517192\n",
      "ll = -6718.50759262\n",
      "ll = -6888.22077568\n",
      "ll = -6716.20422101\n",
      "ll = -6695.66660152\n",
      "ll = -6691.58168109\n",
      "ll = -6690.85883334\n",
      "ll = -6690.83165269\n",
      "ll = -6690.83160231\n",
      "ll = -6690.83159755\n",
      "Final log likelihood = -6690.83159755\n"
     ]
    }
   ],
   "source": [
    "theta,l,info = scipy.optimize.fmin_l_bfgs_b(f, [0]*len(X[0]), fprime, args = (X_train, y_train, 1.0))\n",
    "print (\"Final log likelihood =\", -l)"
   ]
  },
  {
   "cell_type": "code",
   "execution_count": 12,
   "metadata": {},
   "outputs": [
    {
     "data": {
      "text/plain": [
       "matrix([[-1.77315687],\n",
       "        [-0.4530953 ],\n",
       "        [ 0.67198756]])"
      ]
     },
     "execution_count": 12,
     "metadata": {},
     "output_type": "execute_result"
    }
   ],
   "source": [
    "X_test=numpy.matrix(X_test)\n",
    "theta=numpy.matrix(theta).T\n",
    "theta\n"
   ]
  },
  {
   "cell_type": "code",
   "execution_count": 13,
   "metadata": {},
   "outputs": [
    {
     "name": "stdout",
     "output_type": "stream",
     "text": [
      "Accuracy for test data =  0.9136\n"
     ]
    }
   ],
   "source": [
    "predict_test=X_test*theta\n",
    "predict_test_answer=[1 if predict_test[i]>0 else 0 for i in range (len(predict_test))]\n",
    "match_test=[(x==y) for x,y in zip(y_train,predict_test_answer)]\n",
    "accuracy_test=sum(match_test)/len(match_test)\n",
    "print (\"Accuracy for test data = \",accuracy_test)"
   ]
  },
  {
   "cell_type": "code",
   "execution_count": 14,
   "metadata": {},
   "outputs": [
    {
     "name": "stdout",
     "output_type": "stream",
     "text": [
      "[[-1.77315687]\n",
      " [-0.4530953 ]\n",
      " [ 0.67198756]]\n"
     ]
    }
   ],
   "source": [
    "print(theta)"
   ]
  },
  {
   "cell_type": "code",
   "execution_count": 15,
   "metadata": {},
   "outputs": [
    {
     "name": "stdout",
     "output_type": "stream",
     "text": [
      "Accuracy for test data =  0.91344\n"
     ]
    }
   ],
   "source": []
  },
  {
   "cell_type": "code",
   "execution_count": null,
   "metadata": {
    "collapsed": true
   },
   "outputs": [],
   "source": []
  },
  {
   "cell_type": "code",
   "execution_count": null,
   "metadata": {
    "collapsed": true
   },
   "outputs": [],
   "source": []
  },
  {
   "cell_type": "code",
   "execution_count": null,
   "metadata": {
    "collapsed": true
   },
   "outputs": [],
   "source": []
  }
 ],
 "metadata": {
  "kernelspec": {
   "display_name": "Python 3",
   "language": "python",
   "name": "python3"
  },
  "language_info": {
   "codemirror_mode": {
    "name": "ipython",
    "version": 3
   },
   "file_extension": ".py",
   "mimetype": "text/x-python",
   "name": "python",
   "nbconvert_exporter": "python",
   "pygments_lexer": "ipython3",
   "version": "3.6.2"
  }
 },
 "nbformat": 4,
 "nbformat_minor": 2
}
