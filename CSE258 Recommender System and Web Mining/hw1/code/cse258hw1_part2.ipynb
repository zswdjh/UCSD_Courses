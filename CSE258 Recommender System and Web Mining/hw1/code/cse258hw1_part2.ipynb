{
 "cells": [
  {
   "cell_type": "code",
   "execution_count": 1,
   "metadata": {
    "collapsed": true
   },
   "outputs": [],
   "source": [
    "import numpy as np\n",
    "import urllib.request\n",
    "import scipy.optimize\n",
    "import random\n",
    "from sklearn import svm"
   ]
  },
  {
   "cell_type": "code",
   "execution_count": 2,
   "metadata": {},
   "outputs": [
    {
     "name": "stdout",
     "output_type": "stream",
     "text": [
      "Reading data...\n",
      "done!\n"
     ]
    }
   ],
   "source": [
    "def parseData(fname):\n",
    "    for l in urllib.request.urlopen(fname):\n",
    "        yield eval(l)\n",
    "print (\"Reading data...\")\n",
    "data=list(parseData(\"http://jmcauley.ucsd.edu/cse190/data/beer/beer_50000.json\"))\n",
    "print (\"done!\")"
   ]
  },
  {
   "cell_type": "code",
   "execution_count": null,
   "metadata": {
    "collapsed": true
   },
   "outputs": [],
   "source": [
    "#problem 5\n",
    "def feature(datum):\n",
    "    feat=[]\n",
    "    feat.append(datum['beer/ABV'])\n",
    "    feat.append(datum['review/taste'])\n",
    "    return feat"
   ]
  },
  {
   "cell_type": "code",
   "execution_count": null,
   "metadata": {
    "collapsed": true
   },
   "outputs": [],
   "source": [
    "X=[feature(d) for d in data]\n",
    "y=['American IPA' in d['beer/style'] for d in data]\n",
    "X_train=X[:int(len(X)/2)]\n",
    "X_test=X[int(len(X)/2):]\n",
    "y_train=y[:int(len(y)/2)]\n",
    "y_test=y[int(len(y)/2):]\n"
   ]
  },
  {
   "cell_type": "code",
   "execution_count": null,
   "metadata": {
    "collapsed": true
   },
   "outputs": [],
   "source": [
    "clf=svm.SVC(C=1000,kernel='linear')\n",
    "clf.fit(X_train,y_train)\n"
   ]
  },
  {
   "cell_type": "code",
   "execution_count": null,
   "metadata": {
    "collapsed": true
   },
   "outputs": [],
   "source": [
    "train_prediction=clf.predict(X_train)\n",
    "test_prediction=clf.predict(X_test)\n",
    "match_train=[(x==y) for x,y in zip(y_train,train_prediction)]\n",
    "accuracy_train=sum(match_train)/len(match_train)\n",
    "match_test=[(x==y) for x,y in zip(y_test,test_prediction)]\n",
    "accuracy_test=sum(match_test)/len(match_test)\n",
    "print(\"accuracy of predictor on the training data(C=1000): \",accuracy_train)\n",
    "print(\"accuracy of test data(C=1000) :\",accuracy_test)"
   ]
  },
  {
   "cell_type": "code",
   "execution_count": 3,
   "metadata": {
    "collapsed": true
   },
   "outputs": [],
   "source": [
    "#problem 6\n",
    "def feature(datum):\n",
    "    feat=[]\n",
    "    feat.append(datum['beer/ABV'])\n",
    "    if \"IPA\" or \"PA\" in datum['review/text']:\n",
    "        feat.append(1)\n",
    "    else:\n",
    "        feat.append(0)\n",
    "    return feat"
   ]
  },
  {
   "cell_type": "code",
   "execution_count": 4,
   "metadata": {
    "collapsed": true
   },
   "outputs": [],
   "source": [
    "X=[feature(d) for d in data]\n",
    "y=['American IPA' in d['beer/style'] for d in data]\n",
    "X_train=X[:int(len(X)/2)]\n",
    "X_test=X[int(len(X)/2):]\n",
    "y_train=y[:int(len(y)/2)]\n",
    "y_test=y[int(len(y)/2):]\n"
   ]
  },
  {
   "cell_type": "code",
   "execution_count": 10,
   "metadata": {},
   "outputs": [
    {
     "data": {
      "text/plain": [
       "SVC(C=1000, cache_size=200, class_weight=None, coef0=0.0,\n",
       "  decision_function_shape='ovr', degree=3, gamma='auto', kernel='linear',\n",
       "  max_iter=-1, probability=False, random_state=None, shrinking=True,\n",
       "  tol=0.001, verbose=False)"
      ]
     },
     "execution_count": 10,
     "metadata": {},
     "output_type": "execute_result"
    }
   ],
   "source": [
    "clf=svm.SVC(C=1000,kernel='linear')\n",
    "clf.fit(X_train,y_train)\n"
   ]
  },
  {
   "cell_type": "code",
   "execution_count": 11,
   "metadata": {},
   "outputs": [
    {
     "name": "stdout",
     "output_type": "stream",
     "text": [
      "accuracy of predictor on the training data(C=1000):  0.91328\n",
      "accuracy of test data(C=1000) : 0.92148\n"
     ]
    }
   ],
   "source": [
    "train_prediction=clf.predict(X_train)\n",
    "test_prediction=clf.predict(X_test)\n",
    "match_train=[(x==y) for x,y in zip(y_train,train_prediction)]\n",
    "accuracy_train=sum(match_train)/len(match_train)\n",
    "match_test=[(x==y) for x,y in zip(y_test,test_prediction)]\n",
    "accuracy_test=sum(match_test)/len(match_test)\n",
    "print(\"accuracy of predictor on the training data(C=1000): \",accuracy_train)\n",
    "print(\"accuracy of test data(C=1000) :\",accuracy_test)"
   ]
  },
  {
   "cell_type": "code",
   "execution_count": null,
   "metadata": {
    "collapsed": true
   },
   "outputs": [],
   "source": []
  },
  {
   "cell_type": "code",
   "execution_count": 12,
   "metadata": {},
   "outputs": [
    {
     "name": "stdout",
     "output_type": "stream",
     "text": [
      "accuracy of predictor on the training data(C=0.1):  0.9136\n",
      "accuracy of test data(C=0.1) : 0.92188\n"
     ]
    }
   ],
   "source": [
    "#problem7 for problem6\n",
    "clf=svm.SVC(C=0.1,kernel='linear')\n",
    "clf.fit(X_train,y_train)\n",
    "train_prediction=clf.predict(X_train)\n",
    "test_prediction=clf.predict(X_test)\n",
    "match_train=[(x==y) for x,y in zip(y_train,train_prediction)]\n",
    "accuracy_train=sum(match_train)/len(match_train)\n",
    "match_test=[(x==y) for x,y in zip(y_test,test_prediction)]\n",
    "accuracy_test=sum(match_test)/len(match_test)\n",
    "print(\"accuracy of predictor on the training data(C=0.1): \",accuracy_train)\n",
    "print(\"accuracy of test data(C=0.1) :\",accuracy_test)"
   ]
  },
  {
   "cell_type": "code",
   "execution_count": 13,
   "metadata": {},
   "outputs": [
    {
     "name": "stdout",
     "output_type": "stream",
     "text": [
      "accuracy of predictor on the training data(C=10):  0.9136\n",
      "accuracy of test data(C=10) : 0.92188\n"
     ]
    }
   ],
   "source": [
    "clf=svm.SVC(C=10,kernel='linear')\n",
    "clf.fit(X_train,y_train)\n",
    "train_prediction=clf.predict(X_train)\n",
    "test_prediction=clf.predict(X_test)\n",
    "match_train=[(x==y) for x,y in zip(y_train,train_prediction)]\n",
    "accuracy_train=sum(match_train)/len(match_train)\n",
    "match_test=[(x==y) for x,y in zip(y_test,test_prediction)]\n",
    "accuracy_test=sum(match_test)/len(match_test)\n",
    "print(\"accuracy of predictor on the training data(C=10): \",accuracy_train)\n",
    "print(\"accuracy of test data(C=10) :\",accuracy_test)"
   ]
  },
  {
   "cell_type": "code",
   "execution_count": 5,
   "metadata": {},
   "outputs": [
    {
     "name": "stdout",
     "output_type": "stream",
     "text": [
      "accuracy of predictor on the training data(C=100000):  0.88464\n",
      "accuracy of test data(C=100000) : 0.91868\n"
     ]
    }
   ],
   "source": [
    "clf=svm.SVC(C=100000,kernel='linear')\n",
    "clf.fit(X_train,y_train)\n",
    "train_prediction=clf.predict(X_train)\n",
    "test_prediction=clf.predict(X_test)\n",
    "match_train=[(x==y) for x,y in zip(y_train,train_prediction)]\n",
    "accuracy_train=sum(match_train)/len(match_train)\n",
    "match_test=[(x==y) for x,y in zip(y_test,test_prediction)]\n",
    "accuracy_test=sum(match_test)/len(match_test)\n",
    "print(\"accuracy of predictor on the training data(C=100000): \",accuracy_train)\n",
    "print(\"accuracy of test data(C=100000) :\",accuracy_test)"
   ]
  },
  {
   "cell_type": "code",
   "execution_count": null,
   "metadata": {
    "collapsed": true
   },
   "outputs": [],
   "source": []
  },
  {
   "cell_type": "code",
   "execution_count": null,
   "metadata": {
    "collapsed": true
   },
   "outputs": [],
   "source": []
  },
  {
   "cell_type": "code",
   "execution_count": null,
   "metadata": {
    "collapsed": true
   },
   "outputs": [],
   "source": []
  },
  {
   "cell_type": "code",
   "execution_count": null,
   "metadata": {
    "collapsed": true
   },
   "outputs": [],
   "source": []
  },
  {
   "cell_type": "code",
   "execution_count": null,
   "metadata": {
    "collapsed": true
   },
   "outputs": [],
   "source": []
  },
  {
   "cell_type": "code",
   "execution_count": null,
   "metadata": {
    "collapsed": true
   },
   "outputs": [],
   "source": []
  },
  {
   "cell_type": "code",
   "execution_count": null,
   "metadata": {
    "collapsed": true
   },
   "outputs": [],
   "source": []
  },
  {
   "cell_type": "code",
   "execution_count": null,
   "metadata": {
    "collapsed": true
   },
   "outputs": [],
   "source": [
    "#problem 6\n",
    "def feature1(datum):\n",
    "    feat1=[]\n",
    "    feat1.append(datum['beer/ABV'])\n",
    "    feat1.append(datum['review/taste'])\n",
    "    feat1.append(datum['review/appearance'])\n",
    "    \n",
    "    return feat1\n"
   ]
  },
  {
   "cell_type": "code",
   "execution_count": null,
   "metadata": {
    "collapsed": true
   },
   "outputs": [],
   "source": [
    "X=[feature1(d) for d in data]\n",
    "y=['American IPA' in d['beer/style'] for d in data]\n",
    "X_train=X[:int(len(X)/2)]\n",
    "X_test=X[int(len(X)/2):]\n",
    "y_train=y[:int(len(X)/2)]\n",
    "y_test=y[int(len(X)/2):]\n",
    "\n"
   ]
  },
  {
   "cell_type": "code",
   "execution_count": null,
   "metadata": {
    "collapsed": true
   },
   "outputs": [],
   "source": [
    "clf=svm.SVC(C=1000,kernel='linear')\n",
    "clf.fit(X_train,y_train)"
   ]
  },
  {
   "cell_type": "code",
   "execution_count": null,
   "metadata": {
    "collapsed": true
   },
   "outputs": [],
   "source": [
    "train_prediction=clf.predict(X_train)\n",
    "test_prediction=clf.predict(X_test)\n",
    "match_train=[(x==y) for x,y in zip(y_train,train_prediction)]\n",
    "accuracy_train=sum(match_train)/len(match_train)\n",
    "match_test=[(x==y) for x,y in zip(y_test,test_prediction)]\n",
    "accuracy_test=sum(match_test)/len(match_test)\n",
    "print(\"accuracy of predictor on the training data(C=1000): \",accuracy_train)\n",
    "print(\"accuracy of test data :(C=1000)\",accuracy_test)"
   ]
  },
  {
   "cell_type": "code",
   "execution_count": null,
   "metadata": {
    "collapsed": true
   },
   "outputs": [],
   "source": []
  }
 ],
 "metadata": {
  "kernelspec": {
   "display_name": "Python 3",
   "language": "python",
   "name": "python3"
  },
  "language_info": {
   "codemirror_mode": {
    "name": "ipython",
    "version": 3
   },
   "file_extension": ".py",
   "mimetype": "text/x-python",
   "name": "python",
   "nbconvert_exporter": "python",
   "pygments_lexer": "ipython3",
   "version": "3.6.2"
  }
 },
 "nbformat": 4,
 "nbformat_minor": 2
}
